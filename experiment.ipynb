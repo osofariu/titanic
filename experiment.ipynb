{
 "cells": [
  {
   "cell_type": "code",
   "execution_count": 12,
   "metadata": {
    "collapsed": true,
    "pycharm": {
     "is_executing": false
    }
   },
   "outputs": [
    {
     "data": {
      "text/plain": "(array([6.0000e+00, 2.0000e+01, 5.3000e+01, 2.6100e+02, 7.9300e+02,\n        2.0290e+03, 4.4500e+03, 8.2250e+03, 1.2557e+04, 1.6071e+04,\n        1.6671e+04, 1.4878e+04, 1.1106e+04, 6.8320e+03, 3.7430e+03,\n        1.4800e+03, 5.8500e+02, 1.8800e+02, 4.1000e+01, 1.1000e+01]),\n array([-4.397454  , -3.97243224, -3.54741048, -3.12238872, -2.69736696,\n        -2.27234519, -1.84732343, -1.42230167, -0.99727991, -0.57225815,\n        -0.14723638,  0.27778538,  0.70280714,  1.1278289 ,  1.55285066,\n         1.97787243,  2.40289419,  2.82791595,  3.25293771,  3.67795947,\n         4.10298123]),\n <a list of 20 Patch objects>)"
     },
     "metadata": {},
     "output_type": "execute_result",
     "execution_count": 12
    },
    {
     "data": {
      "text/plain": "<Figure size 432x288 with 2 Axes>",
      "image/png": "[encoded data removed]"
     },
     "metadata": {
      "needs_background": "light"
     },
     "output_type": "display_data"
    }
   ],
   "source": [
    "import pandas as pd\n",
    "import numpy as np\n",
    "import matplotlib.pyplot as plt\n",
    "\n",
    "N_points = 100000\n",
    "n_bins = 20\n",
    "\n",
    "# Generate a normal distribution, center at x=0 and y=5\n",
    "x = np.random.randn(N_points)\n",
    "y = .4 * x + np.random.randn(100000) + 5\n",
    "\n",
    "fig, axs = plt.subplots(1, 2, sharey=True, tight_layout=True)\n",
    "\n",
    "# We can set the number of bins with the `bins` kwarg\n",
    "axs[0].hist(x, bins=n_bins)\n",
    "axs[1].hist(y, bins=n_bins)\n",
    "\n",
    "\n",
    "# \n",
    "# data = pd.DataFrame(data = [[1, 'male', 0, 50.30, 30],\n",
    "#                      [2, 'male', 1, 234.1, 29],\n",
    "#                      [3, 'female', 1, 40.5, 28],\n",
    "#                      [4, 'female', 0, 10.4, 12],\n",
    "#                      [5, 'male', 1, 25.3, 23],\n",
    "#                      [6, 'female', 1, 35.20, 19],\n",
    "#                      [7, 'male', 0, 120.4, 38]],\n",
    "#              columns = ['id', 'sex', 'survived', 'fare', 'age'])\n",
    "# \n",
    "# \n",
    "# \n",
    "# import matplotlib.pyplot as plt\n",
    "# \n",
    "# plt.hist(data[data['survived'] == 1]['fare'], data[data['survived'] == 0]['fare'],\n",
    "#          stacked=True, bin=50)"
   ]
  }
 ],
 "metadata": {
  "kernelspec": {
   "display_name": "Python 3",
   "language": "python",
   "name": "python3"
  },
  "language_info": {
   "codemirror_mode": {
    "name": "ipython",
    "version": 2
   },
   "file_extension": ".py",
   "mimetype": "text/x-python",
   "name": "python",
   "nbconvert_exporter": "python",
   "pygments_lexer": "ipython2",
   "version": "2.7.6"
  },
  "pycharm": {
   "stem_cell": {
    "cell_type": "raw",
    "source": [],
    "metadata": {
     "collapsed": false
    }
   }
  }
 },
 "nbformat": 4,
 "nbformat_minor": 0
}
