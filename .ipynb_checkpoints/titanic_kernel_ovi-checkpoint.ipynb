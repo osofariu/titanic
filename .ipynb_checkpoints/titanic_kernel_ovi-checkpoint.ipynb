{
 "cells": [
  {
   "cell_type": "markdown",
   "metadata": {},
   "source": [
    "# Titanic Challenge"
   ]
  },
  {
   "cell_type": "code",
   "execution_count": 18,
   "metadata": {
    "_cell_guid": "b1076dfc-b9ad-4769-8c92-a6c4dae69d19",
    "_uuid": "8f2839f25d086af736a60e9eeb907d3b93b6e0e5",
    "pycharm": {
     "is_executing": false
    }
   },
   "outputs": [
    {
     "name": "stdout",
     "output_type": "stream",
     "text": [
      "kaggle/input/titanic/test.csv\n",
      "kaggle/input/titanic/titanic.zip\n",
      "kaggle/input/titanic/train.csv\n",
      "kaggle/input/titanic/gender_submission.csv\n"
     ]
    }
   ],
   "source": [
    "import numpy as np # linear algebra\n",
    "import pandas as pd # data processing, CSV file I/O (e.g. pd.read_csv)\n",
    "\n",
    "import os\n",
    "for dirname, _, filenames in os.walk('kaggle/input'):\n",
    "    for filename in filenames:\n",
    "        print(os.path.join(dirname, filename))"
   ]
  },
  {
   "cell_type": "markdown",
   "metadata": {},
   "source": [
    "### Look for columns with missing values"
   ]
  },
  {
   "cell_type": "code",
   "execution_count": 19,
   "metadata": {},
   "outputs": [
    {
     "name": "stdout",
     "output_type": "stream",
     "text": [
      "Age column missing values: 177\n",
      "Cabin column missing values: 687\n",
      "Embarked column missing values: 2\n",
      "\n",
      "\n",
      "Titanic Training Set\n",
      "Age column missing values: 177\n",
      "Cabin column missing values: 687\n",
      "Embarked column missing values: 2\n",
      "\n",
      "\n",
      "Titanic Test Set\n",
      "Age column missing values: 86\n",
      "Fare column missing values: 1\n",
      "Cabin column missing values: 327\n",
      "\n",
      "\n"
     ]
    }
   ],
   "source": [
    "t_train_orig = pd.read_csv(\"kaggle/input/titanic/train.csv\")\n",
    "t_train_orig.name = \"Titanic Training Set\"\n",
    "\n",
    "t_test_orig = pd.read_csv(\"kaggle/input/titanic/test.csv\")\n",
    "t_test_orig.name = \"Titanic Test Set\"\n",
    "\n",
    "def display_missing(df):    \n",
    "    for col in df.columns.tolist(): \n",
    "        if (df[col].isnull().sum() > 0):\n",
    "            print('{} column missing values: {}'.format(col, df[col].isnull().sum()))\n",
    "    print('\\n')\n",
    "\n",
    "dfs = [t_train_orig, t_test_orig]\n",
    "\n",
    "display_missing(dfs[0])\n",
    "\n",
    "for df in dfs:\n",
    "    print('{}'.format(df.name))\n",
    "    display_missing(df)"
   ]
  },
  {
   "cell_type": "markdown",
   "metadata": {},
   "source": [
    "### See what  Age is correlated with best\n",
    "so we can fill in nulls with more representative values"
   ]
  },
  {
   "cell_type": "code",
   "execution_count": 21,
   "metadata": {},
   "outputs": [
    {
     "data": {
      "text/html": [
       "<div>\n",
       "<style scoped>\n",
       "    .dataframe tbody tr th:only-of-type {\n",
       "        vertical-align: middle;\n",
       "    }\n",
       "\n",
       "    .dataframe tbody tr th {\n",
       "        vertical-align: top;\n",
       "    }\n",
       "\n",
       "    .dataframe thead th {\n",
       "        text-align: right;\n",
       "    }\n",
       "</style>\n",
       "<table border=\"1\" class=\"dataframe\">\n",
       "  <thead>\n",
       "    <tr style=\"text-align: right;\">\n",
       "      <th></th>\n",
       "      <th>Feature 1</th>\n",
       "      <th>Feature 2</th>\n",
       "      <th>Correlation Coefficient</th>\n",
       "    </tr>\n",
       "  </thead>\n",
       "  <tbody>\n",
       "    <tr>\n",
       "      <th>5</th>\n",
       "      <td>Age</td>\n",
       "      <td>Age</td>\n",
       "      <td>1.000000</td>\n",
       "    </tr>\n",
       "    <tr>\n",
       "      <th>12</th>\n",
       "      <td>Age</td>\n",
       "      <td>Pclass</td>\n",
       "      <td>0.369226</td>\n",
       "    </tr>\n",
       "    <tr>\n",
       "      <th>16</th>\n",
       "      <td>Age</td>\n",
       "      <td>SibSp</td>\n",
       "      <td>0.308247</td>\n",
       "    </tr>\n",
       "    <tr>\n",
       "      <th>21</th>\n",
       "      <td>Age</td>\n",
       "      <td>Parch</td>\n",
       "      <td>0.189119</td>\n",
       "    </tr>\n",
       "    <tr>\n",
       "      <th>26</th>\n",
       "      <td>Age</td>\n",
       "      <td>Fare</td>\n",
       "      <td>0.096067</td>\n",
       "    </tr>\n",
       "    <tr>\n",
       "      <th>31</th>\n",
       "      <td>Age</td>\n",
       "      <td>Survived</td>\n",
       "      <td>0.077221</td>\n",
       "    </tr>\n",
       "    <tr>\n",
       "      <th>36</th>\n",
       "      <td>Age</td>\n",
       "      <td>PassengerId</td>\n",
       "      <td>0.036847</td>\n",
       "    </tr>\n",
       "  </tbody>\n",
       "</table>\n",
       "</div>"
      ],
      "text/plain": [
       "   Feature 1    Feature 2  Correlation Coefficient\n",
       "5        Age          Age                 1.000000\n",
       "12       Age       Pclass                 0.369226\n",
       "16       Age        SibSp                 0.308247\n",
       "21       Age        Parch                 0.189119\n",
       "26       Age         Fare                 0.096067\n",
       "31       Age     Survived                 0.077221\n",
       "36       Age  PassengerId                 0.036847"
      ]
     },
     "execution_count": 21,
     "metadata": {},
     "output_type": "execute_result"
    }
   ],
   "source": [
    "t_train_corr= t_train_orig.corr().abs().unstack().sort_values(kind=\"quicksort\", ascending=False).reset_index()\n",
    "t_train_corr.rename(columns={\"level_0\": \"Feature 1\", \"level_1\": \"Feature 2\", 0: 'Correlation Coefficient'}, inplace=True)\n",
    "t_train_corr[t_train_corr[\"Feature 1\"] == \"Age\"]\n",
    "\n",
    "t_test_corr = t_train_orig.corr().abs().unstack().sort_values(kind=\"quicksort\", ascending=False).reset_index()\n",
    "t_test_corr.rename(columns={\"level_0\": \"Feature 1\", \"level_1\": \"Feature 2\", 0: 'Correlation Coefficient'}, inplace=True)\n",
    "t_test_corr[t_test_corr[\"Feature 1\"] == \"Age\"]\n",
    "\n"
   ]
  },
  {
   "cell_type": "markdown",
   "metadata": {},
   "source": [
    "### Sample training data"
   ]
  },
  {
   "cell_type": "code",
   "execution_count": 7,
   "metadata": {
    "scrolled": true
   },
   "outputs": [
    {
     "data": {
      "text/html": [
       "<div>\n",
       "<style scoped>\n",
       "    .dataframe tbody tr th:only-of-type {\n",
       "        vertical-align: middle;\n",
       "    }\n",
       "\n",
       "    .dataframe tbody tr th {\n",
       "        vertical-align: top;\n",
       "    }\n",
       "\n",
       "    .dataframe thead th {\n",
       "        text-align: right;\n",
       "    }\n",
       "</style>\n",
       "<table border=\"1\" class=\"dataframe\">\n",
       "  <thead>\n",
       "    <tr style=\"text-align: right;\">\n",
       "      <th></th>\n",
       "      <th>PassengerId</th>\n",
       "      <th>Survived</th>\n",
       "      <th>Pclass</th>\n",
       "      <th>Name</th>\n",
       "      <th>Sex</th>\n",
       "      <th>Age</th>\n",
       "      <th>SibSp</th>\n",
       "      <th>Parch</th>\n",
       "      <th>Ticket</th>\n",
       "      <th>Fare</th>\n",
       "      <th>Cabin</th>\n",
       "      <th>Embarked</th>\n",
       "    </tr>\n",
       "  </thead>\n",
       "  <tbody>\n",
       "    <tr>\n",
       "      <th>102</th>\n",
       "      <td>103</td>\n",
       "      <td>0</td>\n",
       "      <td>1</td>\n",
       "      <td>White, Mr. Richard Frasar</td>\n",
       "      <td>male</td>\n",
       "      <td>21.0</td>\n",
       "      <td>0</td>\n",
       "      <td>1</td>\n",
       "      <td>35281</td>\n",
       "      <td>77.2875</td>\n",
       "      <td>D26</td>\n",
       "      <td>S</td>\n",
       "    </tr>\n",
       "    <tr>\n",
       "      <th>257</th>\n",
       "      <td>258</td>\n",
       "      <td>1</td>\n",
       "      <td>1</td>\n",
       "      <td>Cherry, Miss. Gladys</td>\n",
       "      <td>female</td>\n",
       "      <td>30.0</td>\n",
       "      <td>0</td>\n",
       "      <td>0</td>\n",
       "      <td>110152</td>\n",
       "      <td>86.5000</td>\n",
       "      <td>B77</td>\n",
       "      <td>S</td>\n",
       "    </tr>\n",
       "    <tr>\n",
       "      <th>716</th>\n",
       "      <td>717</td>\n",
       "      <td>1</td>\n",
       "      <td>1</td>\n",
       "      <td>Endres, Miss. Caroline Louise</td>\n",
       "      <td>female</td>\n",
       "      <td>38.0</td>\n",
       "      <td>0</td>\n",
       "      <td>0</td>\n",
       "      <td>PC 17757</td>\n",
       "      <td>227.5250</td>\n",
       "      <td>C45</td>\n",
       "      <td>C</td>\n",
       "    </tr>\n",
       "    <tr>\n",
       "      <th>199</th>\n",
       "      <td>200</td>\n",
       "      <td>0</td>\n",
       "      <td>2</td>\n",
       "      <td>Yrois, Miss. Henriette (\"Mrs Harbeck\")</td>\n",
       "      <td>female</td>\n",
       "      <td>24.0</td>\n",
       "      <td>0</td>\n",
       "      <td>0</td>\n",
       "      <td>248747</td>\n",
       "      <td>13.0000</td>\n",
       "      <td>NaN</td>\n",
       "      <td>S</td>\n",
       "    </tr>\n",
       "    <tr>\n",
       "      <th>286</th>\n",
       "      <td>287</td>\n",
       "      <td>1</td>\n",
       "      <td>3</td>\n",
       "      <td>de Mulder, Mr. Theodore</td>\n",
       "      <td>male</td>\n",
       "      <td>30.0</td>\n",
       "      <td>0</td>\n",
       "      <td>0</td>\n",
       "      <td>345774</td>\n",
       "      <td>9.5000</td>\n",
       "      <td>NaN</td>\n",
       "      <td>S</td>\n",
       "    </tr>\n",
       "    <tr>\n",
       "      <th>604</th>\n",
       "      <td>605</td>\n",
       "      <td>1</td>\n",
       "      <td>1</td>\n",
       "      <td>Homer, Mr. Harry (\"Mr E Haven\")</td>\n",
       "      <td>male</td>\n",
       "      <td>35.0</td>\n",
       "      <td>0</td>\n",
       "      <td>0</td>\n",
       "      <td>111426</td>\n",
       "      <td>26.5500</td>\n",
       "      <td>NaN</td>\n",
       "      <td>C</td>\n",
       "    </tr>\n",
       "    <tr>\n",
       "      <th>177</th>\n",
       "      <td>178</td>\n",
       "      <td>0</td>\n",
       "      <td>1</td>\n",
       "      <td>Isham, Miss. Ann Elizabeth</td>\n",
       "      <td>female</td>\n",
       "      <td>50.0</td>\n",
       "      <td>0</td>\n",
       "      <td>0</td>\n",
       "      <td>PC 17595</td>\n",
       "      <td>28.7125</td>\n",
       "      <td>C49</td>\n",
       "      <td>C</td>\n",
       "    </tr>\n",
       "    <tr>\n",
       "      <th>713</th>\n",
       "      <td>714</td>\n",
       "      <td>0</td>\n",
       "      <td>3</td>\n",
       "      <td>Larsson, Mr. August Viktor</td>\n",
       "      <td>male</td>\n",
       "      <td>29.0</td>\n",
       "      <td>0</td>\n",
       "      <td>0</td>\n",
       "      <td>7545</td>\n",
       "      <td>9.4833</td>\n",
       "      <td>NaN</td>\n",
       "      <td>S</td>\n",
       "    </tr>\n",
       "    <tr>\n",
       "      <th>773</th>\n",
       "      <td>774</td>\n",
       "      <td>0</td>\n",
       "      <td>3</td>\n",
       "      <td>Elias, Mr. Dibo</td>\n",
       "      <td>male</td>\n",
       "      <td>NaN</td>\n",
       "      <td>0</td>\n",
       "      <td>0</td>\n",
       "      <td>2674</td>\n",
       "      <td>7.2250</td>\n",
       "      <td>NaN</td>\n",
       "      <td>C</td>\n",
       "    </tr>\n",
       "    <tr>\n",
       "      <th>562</th>\n",
       "      <td>563</td>\n",
       "      <td>0</td>\n",
       "      <td>2</td>\n",
       "      <td>Norman, Mr. Robert Douglas</td>\n",
       "      <td>male</td>\n",
       "      <td>28.0</td>\n",
       "      <td>0</td>\n",
       "      <td>0</td>\n",
       "      <td>218629</td>\n",
       "      <td>13.5000</td>\n",
       "      <td>NaN</td>\n",
       "      <td>S</td>\n",
       "    </tr>\n",
       "  </tbody>\n",
       "</table>\n",
       "</div>"
      ],
      "text/plain": [
       "     PassengerId  Survived  Pclass                                    Name  \\\n",
       "102          103         0       1               White, Mr. Richard Frasar   \n",
       "257          258         1       1                    Cherry, Miss. Gladys   \n",
       "716          717         1       1           Endres, Miss. Caroline Louise   \n",
       "199          200         0       2  Yrois, Miss. Henriette (\"Mrs Harbeck\")   \n",
       "286          287         1       3                 de Mulder, Mr. Theodore   \n",
       "604          605         1       1         Homer, Mr. Harry (\"Mr E Haven\")   \n",
       "177          178         0       1              Isham, Miss. Ann Elizabeth   \n",
       "713          714         0       3              Larsson, Mr. August Viktor   \n",
       "773          774         0       3                         Elias, Mr. Dibo   \n",
       "562          563         0       2              Norman, Mr. Robert Douglas   \n",
       "\n",
       "        Sex   Age  SibSp  Parch    Ticket      Fare Cabin Embarked  \n",
       "102    male  21.0      0      1     35281   77.2875   D26        S  \n",
       "257  female  30.0      0      0    110152   86.5000   B77        S  \n",
       "716  female  38.0      0      0  PC 17757  227.5250   C45        C  \n",
       "199  female  24.0      0      0    248747   13.0000   NaN        S  \n",
       "286    male  30.0      0      0    345774    9.5000   NaN        S  \n",
       "604    male  35.0      0      0    111426   26.5500   NaN        C  \n",
       "177  female  50.0      0      0  PC 17595   28.7125   C49        C  \n",
       "713    male  29.0      0      0      7545    9.4833   NaN        S  \n",
       "773    male   NaN      0      0      2674    7.2250   NaN        C  \n",
       "562    male  28.0      0      0    218629   13.5000   NaN        S  "
      ]
     },
     "execution_count": 7,
     "metadata": {},
     "output_type": "execute_result"
    }
   ],
   "source": [
    "t_train_orig.sample(10)"
   ]
  },
  {
   "cell_type": "markdown",
   "metadata": {},
   "source": [
    "## Feature exploration\n",
    "\n",
    "Let's try a simple decision-tree based solution that gives weight to certain columns:\n",
    "* Pclass (1 > 2 > 3)\n",
    "* Fare ($$ > $)\n",
    "* Sex (female > male)\n",
    "* CabinPresent (1 > 0)\n",
    "* Is child over 12 (1 > 0)\n"
   ]
  },
  {
   "cell_type": "code",
   "execution_count": 39,
   "metadata": {
    "pycharm": {
     "is_executing": false
    }
   },
   "outputs": [],
   "source": [
    "# let's clean-up the data for the decision tree classifier\n",
    "\n",
    "import math\n",
    "\n",
    "t_train = t_train_orig\n",
    "\n",
    "# sex to numeric\n",
    "t_train['SexNumeric'] = np.where(t_train['Sex'] == \"male\", 0, 1)\n",
    "\n",
    "# passenger has a cabin (if NaN, no cabin)\n",
    "t_train['CabinPresent'] = t_train['Cabin'].fillna(0)\n",
    "t_train['CabinPresent'] = np.where(t_train['CabinPresent'] != 0, 1, 0)\n",
    "\n",
    "# location of cabin.. naive mapping based on the first letter of the Cabin location \n",
    "import string\n",
    "t_train['CabinLetter'] = \\\n",
    "    t_train['Cabin'].map(lambda cabin: string.ascii_uppercase.index(cabin[0]) if (type(cabin) == str) else -1)\n",
    "\n",
    "# thought large number of siblings might help (it didn't)\n",
    "t_train['SibSpLarge'] = t_train['SibSp'].map(lambda ct: 1 if ct > 3 else 0)\n",
    "#t_train['SibSpLarge'].value_counts()\n",
    "\n",
    "# people with the same last name may be a family; add feature that represent this count to each person\n",
    "# doesn't seem to help\n",
    "t_train['LastName'] = t_train['Name'].map(lambda name: name.split(',')[0])\n",
    "familyCount = t_train.groupby('LastName')['LastName'].count()\n",
    "t_train['FamilyCount'] = t_train['LastName'].map(lambda lastName: familyCount[lastName])\n",
    "t_train['FamilyScore'] = t_train.FamilyCount + t_train.SibSp + t_train.Parch\n",
    "# next, try using the SibSp to correlate against this count..\n",
    "# but do people with siblings or spouses have a higher chance of surviving? \n",
    "\n",
    "#t_train['Fare'].map(lambda amt: int(amt / 10) * 10).value_counts()\n",
    "ave_fare = t_train['Fare'].median()\n",
    "t_train['FareWithDefault'] = t_train['Fare'].map(lambda fare: fare if fare > 0 else ave_fare)\n",
    "\n",
    "fare_p1 = t_train[t_train['Pclass'] == 1]['Fare'].median()\n",
    "fare_p2 = t_train[t_train['Pclass'] == 2]['Fare'].median()\n",
    "fare_p3 = t_train[t_train['Pclass'] == 3]['Fare'].median()\n",
    "median_fares = [0, fare_p1, fare_p2, fare_p3]\n",
    "\n",
    "def fare_for_class(row):\n",
    "    pclass = row['Pclass']\n",
    "    fare = row['Fare']\n",
    "    fare_for_class = median_fares[pclass]\n",
    "    adjusted_fare = fare_for_class if fare == 0 else fare\n",
    "    return adjusted_fare\n",
    "\n",
    "t_train['FareAdjusted'] = t_train.apply(fare_for_class,axis=1)\n",
    "\n",
    "# get average age for different classes\n",
    "age_p1 = t_train[t_train['Pclass'] == 1]['Age'].median()\n",
    "age_p2 = t_train[t_train['Pclass'] == 2]['Age'].median()\n",
    "age_p3 = t_train[t_train['Pclass'] == 3]['Age'].median()\n",
    "median_ages = [0, age_p1, age_p2, age_p3]\n",
    "\n",
    "def age_for_class(row):\n",
    "    pclass = row['Pclass']\n",
    "    age = row['Age']\n",
    "    age_for_class = median_ages[pclass]\n",
    "    adjusted_age = age_for_class if np.isnan(age) else age\n",
    "    return adjusted_age\n",
    "\n",
    "t_train['AgeAdjusted'] = t_train.apply(age_for_class,axis=1)\n",
    "\n",
    "# this helps a bit\n",
    "t_train['IsChild'] = t_train['AgeAdjusted'].map(lambda age: 1 if (age <= 12.0) else 0)"
   ]
  },
  {
   "cell_type": "code",
   "execution_count": 42,
   "metadata": {},
   "outputs": [],
   "source": [
    "#t_train[t_train['Fare'] != t_train['FareAdjusted']]"
   ]
  },
  {
   "cell_type": "code",
   "execution_count": 61,
   "metadata": {
    "pycharm": {
     "is_executing": false
    }
   },
   "outputs": [
    {
     "name": "stdout",
     "output_type": "stream",
     "text": [
      "Accuracy: 0.8395522388059702\n"
     ]
    }
   ],
   "source": [
    "import pandas as pd\n",
    "\n",
    "from sklearn.tree import DecisionTreeClassifier # Import Decision Tree Classifier\n",
    "from sklearn.model_selection import train_test_split # Import train_test_split function\n",
    "from sklearn import metrics #Import scikit-learn metrics module for accuracy calculation\n",
    "\n",
    "\n",
    "feature_cols = ['FareAdjusted','SexNumeric', 'AgeAdjusted', 'IsChild', 'Pclass']\n",
    "#              [ 0.3309298  0.2972776 0.2367167  0.10798761 ]\n",
    "feature_cols = ['SexNumeric', 'Fare','IsChild',  'Pclass', 'AgeAdjusted']\n",
    "#Accuracy: 0.8395522388059702\n",
    "\n",
    "feature_cols = ['FareAdjusted', 'Pclass', 'SexNumeric', 'IsChild', ]\n",
    "#Accuracy: 0.8246268656716418\n",
    "#Accuracy: 0.8283582089552238 sometimes.. why?\n",
    "\n",
    "#feature_cols = ['Fare', 'Pclass', 'SexNumeric', 'CabinPresent']\n",
    "#Accuracy: 0.8208955223880597\n",
    "\n",
    "#feature_cols = ['Pclass', 'SexNumeric', 'Fare']\n",
    "# Accuracy: 0.8134328358208955\n",
    "\n",
    "#feature_cols = ['Fare', 'Pclass']\n",
    "#Accuracy: 0.6865671641791045\n",
    "\n",
    "X = t_train[feature_cols]\n",
    "y = t_train.Survived\n",
    "\n",
    "X_train, X_test, y_train, y_test = train_test_split(X, y, test_size=0.3, random_state=1) # 70% training and 30% test\n",
    "\n",
    "clf = DecisionTreeClassifier()\n",
    "clf = clf.fit(X_train,y_train)\n",
    "y_pred = clf.predict(X_test)\n",
    "\n",
    "# Model Accuracy, how often is the classifier correct?\n",
    "print(\"Accuracy:\",metrics.accuracy_score(y_test, y_pred))"
   ]
  },
  {
   "cell_type": "code",
   "execution_count": 10,
   "metadata": {
    "pycharm": {
     "is_executing": false
    }
   },
   "outputs": [],
   "source": [
    "# let's visualize the results\n",
    "\n",
    "# from sklearn.tree import export_graphviz\n",
    "# from sklearn.externals.six import StringIO  \n",
    "# from IPython.display import Image  \n",
    "\n",
    "# !pip install pydotplus\n",
    "# import pydotplus\n",
    "\n",
    "# from sklearn.tree import export_graphviz\n",
    "# from sklearn.externals.six import StringIO  \n",
    "# from IPython.display import Image  \n",
    "# import pydotplus\n",
    "\n",
    "# dot_data = StringIO()\n",
    "# export_graphviz(clf, out_file=dot_data,  \n",
    "#                 filled=True, rounded=True,\n",
    "#                 special_characters=True,feature_names = feature_cols,class_names=['0','1'])\n",
    "# graph = pydotplus.graph_from_dot_data(dot_data.getvalue())  \n",
    "# graph.write_png('titanic.png')\n",
    "# Image(graph.create_png())\n"
   ]
  },
  {
   "cell_type": "markdown",
   "metadata": {},
   "source": [
    "## Try a random forrest classifier"
   ]
  },
  {
   "cell_type": "code",
   "execution_count": 62,
   "metadata": {
    "pycharm": {
     "is_executing": false
    }
   },
   "outputs": [
    {
     "name": "stdout",
     "output_type": "stream",
     "text": [
      "feature importance: [0.40988466 0.1319164  0.39231598 0.06588296]\n",
      "score: 0.8283582089552238\n"
     ]
    }
   ],
   "source": [
    "from sklearn.ensemble import RandomForestClassifier\n",
    "\n",
    "\n",
    "clf = RandomForestClassifier(bootstrap=True, class_weight=None, criterion='gini',\n",
    "            max_depth=100, max_features='auto', max_leaf_nodes=None,\n",
    "            min_impurity_decrease=0.0, min_impurity_split=None,\n",
    "            min_samples_leaf=1, min_samples_split=5,\n",
    "            min_weight_fraction_leaf=0.0, n_estimators=250, n_jobs=None,\n",
    "            oob_score=False, random_state=0, verbose=0, warm_start=False)\n",
    "\n",
    "clf.fit(X_train,y_train) \n",
    "\n",
    "\n",
    "print(f'feature importance: {clf.feature_importances_}')\n",
    "print(f'score: {clf.score(X_test, y_test)}')\n",
    "# 20 samples\n",
    "#[0.27465804 0.22880346 0.45345524 0.04308326]\n",
    "# 100 samples\n",
    "#[0.14283224 0.18341415 0.60423145 0.06952216]\n",
    "\n",
    "# ['Fare', 'Pclass', 'SexNumeric', 'CabinPresent', 'IsChild']\n",
    "# [0.40740532 0.10936106 0.37225673 0.05263696 0.05833993]"
   ]
  },
  {
   "cell_type": "markdown",
   "metadata": {},
   "source": [
    "## Logistic Regression"
   ]
  },
  {
   "cell_type": "code",
   "execution_count": 63,
   "metadata": {
    "pycharm": {
     "is_executing": false
    }
   },
   "outputs": [
    {
     "name": "stdout",
     "output_type": "stream",
     "text": [
      "probabilty (count = 891\n",
      "[[0.9286963  0.0713037 ]\n",
      " [0.09421064 0.90578936]\n",
      " [0.45627697 0.54372303]\n",
      " ...\n",
      " [0.46217827 0.53782173]\n",
      " [0.60270347 0.39729653]\n",
      " [0.92874696 0.07125304]]\n",
      "\n",
      "score: 0.8002244668911336\n"
     ]
    }
   ],
   "source": [
    "from sklearn.linear_model import LogisticRegression\n",
    "\n",
    "clf = LogisticRegression(random_state=0, solver='lbfgs',\n",
    "                         multi_class='multinomial').fit(X_train, y_train)\n",
    "\n",
    "prob = clf.predict_proba(X)\n",
    "\n",
    "print(f'probabilty (count = {len(prob)}\\n{prob}\\n')\n",
    "print(f'score: {clf.score(X, y)}')\n"
   ]
  }
 ],
 "metadata": {
  "kernelspec": {
   "display_name": "Python 3",
   "language": "python",
   "name": "python3"
  },
  "language_info": {
   "codemirror_mode": {
    "name": "ipython",
    "version": 3
   },
   "file_extension": ".py",
   "mimetype": "text/x-python",
   "name": "python",
   "nbconvert_exporter": "python",
   "pygments_lexer": "ipython3",
   "version": "3.7.3"
  },
  "pycharm": {
   "stem_cell": {
    "cell_type": "raw",
    "metadata": {
     "collapsed": false
    },
    "source": []
   }
  }
 },
 "nbformat": 4,
 "nbformat_minor": 1
}
