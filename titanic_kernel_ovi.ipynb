{
 "cells": [
  {
   "cell_type": "markdown",
   "metadata": {},
   "source": [
    "# Titanic Challenge"
   ]
  },
  {
   "cell_type": "code",
   "execution_count": 56,
   "metadata": {
    "_cell_guid": "b1076dfc-b9ad-4769-8c92-a6c4dae69d19",
    "_uuid": "8f2839f25d086af736a60e9eeb907d3b93b6e0e5",
    "pycharm": {
     "is_executing": false
    }
   },
   "outputs": [
    {
     "name": "stdout",
     "output_type": "stream",
     "text": [
      "kaggle/input/titanic/test.csv\n",
      "kaggle/input/titanic/titanic.zip\n",
      "kaggle/input/titanic/train.csv\n",
      "kaggle/input/titanic/gender_submission.csv\n"
     ]
    }
   ],
   "source": [
    "import numpy as np # linear algebra\n",
    "import pandas as pd # data processing, CSV file I/O (e.g. pd.read_csv)\n",
    "\n",
    "import os\n",
    "for dirname, _, filenames in os.walk('kaggle/input'):\n",
    "    for filename in filenames:\n",
    "        print(os.path.join(dirname, filename))"
   ]
  },
  {
   "cell_type": "markdown",
   "metadata": {},
   "source": [
    "### Look for columns with missing values"
   ]
  },
  {
   "cell_type": "code",
   "execution_count": 57,
   "metadata": {
    "pycharm": {
     "is_executing": false
    }
   },
   "outputs": [
    {
     "name": "stdout",
     "output_type": "stream",
     "text": [
      "Titanic Training Set\n",
      "Age column missing values: 177\n",
      "Cabin column missing values: 687\n",
      "Embarked column missing values: 2\n",
      "\n",
      "\n",
      "Titanic Test Set\n",
      "Age column missing values: 86\n",
      "Fare column missing values: 1\n",
      "Cabin column missing values: 327\n",
      "\n",
      "\n"
     ]
    }
   ],
   "source": [
    "t_train_orig = pd.read_csv(\"kaggle/input/titanic/train.csv\")\n",
    "t_train_orig.name = \"Titanic Training Set\"\n",
    "\n",
    "t_test_orig = pd.read_csv(\"kaggle/input/titanic/test.csv\")\n",
    "t_test_orig.name = \"Titanic Test Set\"\n",
    "\n",
    "def display_missing(df):    \n",
    "    for col in df.columns.tolist(): \n",
    "        if df[col].isnull().sum() > 0:\n",
    "            print('{} column missing values: {}'.format(col, df[col].isnull().sum()))\n",
    "    print('\\n')\n",
    "\n",
    "dfs = [t_train_orig, t_test_orig]\n",
    "\n",
    "\n",
    "for df in dfs:\n",
    "    print('{}'.format(df.name))\n",
    "    display_missing(df)"
   ]
  },
  {
   "cell_type": "markdown",
   "metadata": {},
   "source": [
    "###  women were much more likely to survive than men"
   ]
  },
  {
   "cell_type": "code",
   "execution_count": 58,
   "metadata": {
    "pycharm": {
     "is_executing": false,
     "name": "#%%\n"
    }
   },
   "outputs": [
    {
     "data": {
      "text/plain": [
       "<matplotlib.axes._subplots.AxesSubplot at 0x11cccab38>"
      ]
     },
     "execution_count": 58,
     "metadata": {},
     "output_type": "execute_result"
    },
    {
     "data": {
      "image/png": "[encoded data removed]",
      "text/plain": [
       "<Figure size 432x288 with 1 Axes>"
      ]
     },
     "metadata": {
      "needs_background": "light"
     },
     "output_type": "display_data"
    }
   ],
   "source": [
    "t_train_orig['Died']= t_train_orig['Survived'].map(lambda survived: 0 if survived == 1 else 1)\n",
    "t_train_orig.groupby('Sex').agg('sum')[['Survived', 'Died']].plot(kind='bar', stacked='true')"
   ]
  },
  {
   "cell_type": "markdown",
   "metadata": {},
   "source": [
    "### let's look at the correlation between ticket price and the likelihood of survival"
   ]
  },
  {
   "cell_type": "code",
   "execution_count": 59,
   "metadata": {
    "pycharm": {
     "is_executing": false,
     "name": "#%%\n"
    }
   },
   "outputs": [
    {
     "data": {
      "text/plain": [
       "<matplotlib.legend.Legend at 0x11cbe1828>"
      ]
     },
     "execution_count": 59,
     "metadata": {},
     "output_type": "execute_result"
    },
    {
     "data": {
      "image/png": "[encoded data removed]",
      "text/plain": [
       "<Figure size 432x288 with 1 Axes>"
      ]
     },
     "metadata": {
      "needs_background": "light"
     },
     "output_type": "display_data"
    }
   ],
   "source": [
    "import matplotlib.pyplot as plt\n",
    "t = t_train_orig\n",
    "fare_survived =t[t['Survived'] == 1]['Fare'] \n",
    "fare_died = t[t['Survived'] == 0]['Fare'] \n",
    "plt.hist([fare_survived, fare_died], stacked=True, color = ['g', 'r'], \n",
    "         bins = 25, label=['Survived', 'Died'])\n",
    "plt.xlabel('fare')\n",
    "plt.ylabel('Number of passengers')\n",
    "plt.legend()"
   ]
  },
  {
   "cell_type": "markdown",
   "metadata": {},
   "source": [
    "### See what  Age is correlated with best\n",
    "so we can fill in nulls with more representative values"
   ]
  },
  {
   "cell_type": "code",
   "execution_count": 60,
   "metadata": {
    "pycharm": {
     "is_executing": false
    },
    "scrolled": true
   },
   "outputs": [
    {
     "data": {
      "text/html": [
       "<div>\n",
       "<style scoped>\n",
       "    .dataframe tbody tr th:only-of-type {\n",
       "        vertical-align: middle;\n",
       "    }\n",
       "\n",
       "    .dataframe tbody tr th {\n",
       "        vertical-align: top;\n",
       "    }\n",
       "\n",
       "    .dataframe thead th {\n",
       "        text-align: right;\n",
       "    }\n",
       "</style>\n",
       "<table border=\"1\" class=\"dataframe\">\n",
       "  <thead>\n",
       "    <tr style=\"text-align: right;\">\n",
       "      <th></th>\n",
       "      <th>Feature 1</th>\n",
       "      <th>Feature 2</th>\n",
       "      <th>Correlation Coefficient</th>\n",
       "    </tr>\n",
       "  </thead>\n",
       "  <tbody>\n",
       "    <tr>\n",
       "      <th>17</th>\n",
       "      <td>Survived</td>\n",
       "      <td>Pclass</td>\n",
       "      <td>0.338481</td>\n",
       "    </tr>\n",
       "    <tr>\n",
       "      <th>22</th>\n",
       "      <td>Survived</td>\n",
       "      <td>Fare</td>\n",
       "      <td>0.257307</td>\n",
       "    </tr>\n",
       "  </tbody>\n",
       "</table>\n",
       "</div>"
      ],
      "text/plain": [
       "   Feature 1 Feature 2  Correlation Coefficient\n",
       "17  Survived    Pclass                 0.338481\n",
       "22  Survived      Fare                 0.257307"
      ]
     },
     "execution_count": 60,
     "metadata": {},
     "output_type": "execute_result"
    }
   ],
   "source": [
    "t_train_corr = t_train_orig.corr().abs().unstack().sort_values(kind=\"quicksort\", ascending=False).reset_index()\n",
    "t_train_corr.rename(columns={\"level_0\": \"Feature 1\", \"level_1\": \"Feature 2\", 0: 'Correlation Coefficient'}, inplace=True)\n",
    "\n",
    "groups = t_train_corr[(0.1 < t_train_corr[\"Correlation Coefficient\"]) & (t_train_corr[\"Correlation Coefficient\"] < .85)].groupby('Feature 1')\n",
    "\n",
    "groups.get_group('Survived')\n",
    "    "
   ]
  },
  {
   "cell_type": "code",
   "execution_count": 61,
   "metadata": {},
   "outputs": [
    {
     "data": {
      "text/html": [
       "<div>\n",
       "<style scoped>\n",
       "    .dataframe tbody tr th:only-of-type {\n",
       "        vertical-align: middle;\n",
       "    }\n",
       "\n",
       "    .dataframe tbody tr th {\n",
       "        vertical-align: top;\n",
       "    }\n",
       "\n",
       "    .dataframe thead th {\n",
       "        text-align: right;\n",
       "    }\n",
       "</style>\n",
       "<table border=\"1\" class=\"dataframe\">\n",
       "  <thead>\n",
       "    <tr style=\"text-align: right;\">\n",
       "      <th></th>\n",
       "      <th>Feature 1</th>\n",
       "      <th>Feature 2</th>\n",
       "      <th>Correlation Coefficient</th>\n",
       "    </tr>\n",
       "  </thead>\n",
       "  <tbody>\n",
       "    <tr>\n",
       "      <th>15</th>\n",
       "      <td>Age</td>\n",
       "      <td>Pclass</td>\n",
       "      <td>0.369226</td>\n",
       "    </tr>\n",
       "    <tr>\n",
       "      <th>20</th>\n",
       "      <td>Age</td>\n",
       "      <td>SibSp</td>\n",
       "      <td>0.308247</td>\n",
       "    </tr>\n",
       "    <tr>\n",
       "      <th>28</th>\n",
       "      <td>Age</td>\n",
       "      <td>Parch</td>\n",
       "      <td>0.189119</td>\n",
       "    </tr>\n",
       "  </tbody>\n",
       "</table>\n",
       "</div>"
      ],
      "text/plain": [
       "   Feature 1 Feature 2  Correlation Coefficient\n",
       "15       Age    Pclass                 0.369226\n",
       "20       Age     SibSp                 0.308247\n",
       "28       Age     Parch                 0.189119"
      ]
     },
     "execution_count": 61,
     "metadata": {},
     "output_type": "execute_result"
    }
   ],
   "source": [
    "groups.get_group('Age')"
   ]
  },
  {
   "cell_type": "markdown",
   "metadata": {},
   "source": [
    "### Sample training data"
   ]
  },
  {
   "cell_type": "code",
   "execution_count": 62,
   "metadata": {
    "pycharm": {
     "is_executing": false
    },
    "scrolled": true
   },
   "outputs": [
    {
     "data": {
      "text/html": [
       "<div>\n",
       "<style scoped>\n",
       "    .dataframe tbody tr th:only-of-type {\n",
       "        vertical-align: middle;\n",
       "    }\n",
       "\n",
       "    .dataframe tbody tr th {\n",
       "        vertical-align: top;\n",
       "    }\n",
       "\n",
       "    .dataframe thead th {\n",
       "        text-align: right;\n",
       "    }\n",
       "</style>\n",
       "<table border=\"1\" class=\"dataframe\">\n",
       "  <thead>\n",
       "    <tr style=\"text-align: right;\">\n",
       "      <th></th>\n",
       "      <th>PassengerId</th>\n",
       "      <th>Survived</th>\n",
       "      <th>Pclass</th>\n",
       "      <th>Name</th>\n",
       "      <th>Sex</th>\n",
       "      <th>Age</th>\n",
       "      <th>SibSp</th>\n",
       "      <th>Parch</th>\n",
       "      <th>Ticket</th>\n",
       "      <th>Fare</th>\n",
       "      <th>Cabin</th>\n",
       "      <th>Embarked</th>\n",
       "      <th>Died</th>\n",
       "    </tr>\n",
       "  </thead>\n",
       "  <tbody>\n",
       "    <tr>\n",
       "      <th>586</th>\n",
       "      <td>587</td>\n",
       "      <td>0</td>\n",
       "      <td>2</td>\n",
       "      <td>Jarvis, Mr. John Denzil</td>\n",
       "      <td>male</td>\n",
       "      <td>47.0</td>\n",
       "      <td>0</td>\n",
       "      <td>0</td>\n",
       "      <td>237565</td>\n",
       "      <td>15.0000</td>\n",
       "      <td>NaN</td>\n",
       "      <td>S</td>\n",
       "      <td>1</td>\n",
       "    </tr>\n",
       "    <tr>\n",
       "      <th>662</th>\n",
       "      <td>663</td>\n",
       "      <td>0</td>\n",
       "      <td>1</td>\n",
       "      <td>Colley, Mr. Edward Pomeroy</td>\n",
       "      <td>male</td>\n",
       "      <td>47.0</td>\n",
       "      <td>0</td>\n",
       "      <td>0</td>\n",
       "      <td>5727</td>\n",
       "      <td>25.5875</td>\n",
       "      <td>E58</td>\n",
       "      <td>S</td>\n",
       "      <td>1</td>\n",
       "    </tr>\n",
       "    <tr>\n",
       "      <th>710</th>\n",
       "      <td>711</td>\n",
       "      <td>1</td>\n",
       "      <td>1</td>\n",
       "      <td>Mayne, Mlle. Berthe Antonine (\"Mrs de Villiers\")</td>\n",
       "      <td>female</td>\n",
       "      <td>24.0</td>\n",
       "      <td>0</td>\n",
       "      <td>0</td>\n",
       "      <td>PC 17482</td>\n",
       "      <td>49.5042</td>\n",
       "      <td>C90</td>\n",
       "      <td>C</td>\n",
       "      <td>0</td>\n",
       "    </tr>\n",
       "    <tr>\n",
       "      <th>551</th>\n",
       "      <td>552</td>\n",
       "      <td>0</td>\n",
       "      <td>2</td>\n",
       "      <td>Sharp, Mr. Percival James R</td>\n",
       "      <td>male</td>\n",
       "      <td>27.0</td>\n",
       "      <td>0</td>\n",
       "      <td>0</td>\n",
       "      <td>244358</td>\n",
       "      <td>26.0000</td>\n",
       "      <td>NaN</td>\n",
       "      <td>S</td>\n",
       "      <td>1</td>\n",
       "    </tr>\n",
       "    <tr>\n",
       "      <th>808</th>\n",
       "      <td>809</td>\n",
       "      <td>0</td>\n",
       "      <td>2</td>\n",
       "      <td>Meyer, Mr. August</td>\n",
       "      <td>male</td>\n",
       "      <td>39.0</td>\n",
       "      <td>0</td>\n",
       "      <td>0</td>\n",
       "      <td>248723</td>\n",
       "      <td>13.0000</td>\n",
       "      <td>NaN</td>\n",
       "      <td>S</td>\n",
       "      <td>1</td>\n",
       "    </tr>\n",
       "    <tr>\n",
       "      <th>847</th>\n",
       "      <td>848</td>\n",
       "      <td>0</td>\n",
       "      <td>3</td>\n",
       "      <td>Markoff, Mr. Marin</td>\n",
       "      <td>male</td>\n",
       "      <td>35.0</td>\n",
       "      <td>0</td>\n",
       "      <td>0</td>\n",
       "      <td>349213</td>\n",
       "      <td>7.8958</td>\n",
       "      <td>NaN</td>\n",
       "      <td>C</td>\n",
       "      <td>1</td>\n",
       "    </tr>\n",
       "    <tr>\n",
       "      <th>481</th>\n",
       "      <td>482</td>\n",
       "      <td>0</td>\n",
       "      <td>2</td>\n",
       "      <td>Frost, Mr. Anthony Wood \"Archie\"</td>\n",
       "      <td>male</td>\n",
       "      <td>NaN</td>\n",
       "      <td>0</td>\n",
       "      <td>0</td>\n",
       "      <td>239854</td>\n",
       "      <td>0.0000</td>\n",
       "      <td>NaN</td>\n",
       "      <td>S</td>\n",
       "      <td>1</td>\n",
       "    </tr>\n",
       "    <tr>\n",
       "      <th>355</th>\n",
       "      <td>356</td>\n",
       "      <td>0</td>\n",
       "      <td>3</td>\n",
       "      <td>Vanden Steen, Mr. Leo Peter</td>\n",
       "      <td>male</td>\n",
       "      <td>28.0</td>\n",
       "      <td>0</td>\n",
       "      <td>0</td>\n",
       "      <td>345783</td>\n",
       "      <td>9.5000</td>\n",
       "      <td>NaN</td>\n",
       "      <td>S</td>\n",
       "      <td>1</td>\n",
       "    </tr>\n",
       "    <tr>\n",
       "      <th>19</th>\n",
       "      <td>20</td>\n",
       "      <td>1</td>\n",
       "      <td>3</td>\n",
       "      <td>Masselmani, Mrs. Fatima</td>\n",
       "      <td>female</td>\n",
       "      <td>NaN</td>\n",
       "      <td>0</td>\n",
       "      <td>0</td>\n",
       "      <td>2649</td>\n",
       "      <td>7.2250</td>\n",
       "      <td>NaN</td>\n",
       "      <td>C</td>\n",
       "      <td>0</td>\n",
       "    </tr>\n",
       "    <tr>\n",
       "      <th>613</th>\n",
       "      <td>614</td>\n",
       "      <td>0</td>\n",
       "      <td>3</td>\n",
       "      <td>Horgan, Mr. John</td>\n",
       "      <td>male</td>\n",
       "      <td>NaN</td>\n",
       "      <td>0</td>\n",
       "      <td>0</td>\n",
       "      <td>370377</td>\n",
       "      <td>7.7500</td>\n",
       "      <td>NaN</td>\n",
       "      <td>Q</td>\n",
       "      <td>1</td>\n",
       "    </tr>\n",
       "  </tbody>\n",
       "</table>\n",
       "</div>"
      ],
      "text/plain": [
       "     PassengerId  Survived  Pclass  \\\n",
       "586          587         0       2   \n",
       "662          663         0       1   \n",
       "710          711         1       1   \n",
       "551          552         0       2   \n",
       "808          809         0       2   \n",
       "847          848         0       3   \n",
       "481          482         0       2   \n",
       "355          356         0       3   \n",
       "19            20         1       3   \n",
       "613          614         0       3   \n",
       "\n",
       "                                                 Name     Sex   Age  SibSp  \\\n",
       "586                           Jarvis, Mr. John Denzil    male  47.0      0   \n",
       "662                        Colley, Mr. Edward Pomeroy    male  47.0      0   \n",
       "710  Mayne, Mlle. Berthe Antonine (\"Mrs de Villiers\")  female  24.0      0   \n",
       "551                       Sharp, Mr. Percival James R    male  27.0      0   \n",
       "808                                 Meyer, Mr. August    male  39.0      0   \n",
       "847                                Markoff, Mr. Marin    male  35.0      0   \n",
       "481                  Frost, Mr. Anthony Wood \"Archie\"    male   NaN      0   \n",
       "355                       Vanden Steen, Mr. Leo Peter    male  28.0      0   \n",
       "19                            Masselmani, Mrs. Fatima  female   NaN      0   \n",
       "613                                  Horgan, Mr. John    male   NaN      0   \n",
       "\n",
       "     Parch    Ticket     Fare Cabin Embarked  Died  \n",
       "586      0    237565  15.0000   NaN        S     1  \n",
       "662      0      5727  25.5875   E58        S     1  \n",
       "710      0  PC 17482  49.5042   C90        C     0  \n",
       "551      0    244358  26.0000   NaN        S     1  \n",
       "808      0    248723  13.0000   NaN        S     1  \n",
       "847      0    349213   7.8958   NaN        C     1  \n",
       "481      0    239854   0.0000   NaN        S     1  \n",
       "355      0    345783   9.5000   NaN        S     1  \n",
       "19       0      2649   7.2250   NaN        C     0  \n",
       "613      0    370377   7.7500   NaN        Q     1  "
      ]
     },
     "execution_count": 62,
     "metadata": {},
     "output_type": "execute_result"
    }
   ],
   "source": [
    "t_train_orig.sample(10)"
   ]
  },
  {
   "cell_type": "markdown",
   "metadata": {},
   "source": [
    "## Feature exploration\n",
    "\n",
    "Here are some initial ideas:\n",
    "* Pclass (1 > 2 > 3)\n",
    "* Fare ($$ > $)\n",
    "* Sex (female > male)\n",
    "* CabinPresent (1 > 0)\n",
    "* Is child over 12 (1 > 0)\n"
   ]
  },
  {
   "cell_type": "code",
   "execution_count": 118,
   "metadata": {
    "pycharm": {
     "is_executing": false
    }
   },
   "outputs": [
    {
     "data": {
      "text/html": [
       "<div>\n",
       "<style scoped>\n",
       "    .dataframe tbody tr th:only-of-type {\n",
       "        vertical-align: middle;\n",
       "    }\n",
       "\n",
       "    .dataframe tbody tr th {\n",
       "        vertical-align: top;\n",
       "    }\n",
       "\n",
       "    .dataframe thead th {\n",
       "        text-align: right;\n",
       "    }\n",
       "</style>\n",
       "<table border=\"1\" class=\"dataframe\">\n",
       "  <thead>\n",
       "    <tr style=\"text-align: right;\">\n",
       "      <th></th>\n",
       "      <th>FareAdjusted</th>\n",
       "      <th>Pclass</th>\n",
       "      <th>SexNumeric</th>\n",
       "      <th>TitleNumeric</th>\n",
       "    </tr>\n",
       "  </thead>\n",
       "  <tbody>\n",
       "    <tr>\n",
       "      <th>589</th>\n",
       "      <td>8.0500</td>\n",
       "      <td>3</td>\n",
       "      <td>0</td>\n",
       "      <td>1</td>\n",
       "    </tr>\n",
       "    <tr>\n",
       "      <th>35</th>\n",
       "      <td>52.0000</td>\n",
       "      <td>1</td>\n",
       "      <td>0</td>\n",
       "      <td>1</td>\n",
       "    </tr>\n",
       "    <tr>\n",
       "      <th>782</th>\n",
       "      <td>30.0000</td>\n",
       "      <td>1</td>\n",
       "      <td>0</td>\n",
       "      <td>1</td>\n",
       "    </tr>\n",
       "    <tr>\n",
       "      <th>790</th>\n",
       "      <td>7.7500</td>\n",
       "      <td>3</td>\n",
       "      <td>0</td>\n",
       "      <td>1</td>\n",
       "    </tr>\n",
       "    <tr>\n",
       "      <th>283</th>\n",
       "      <td>8.0500</td>\n",
       "      <td>3</td>\n",
       "      <td>0</td>\n",
       "      <td>1</td>\n",
       "    </tr>\n",
       "    <tr>\n",
       "      <th>342</th>\n",
       "      <td>13.0000</td>\n",
       "      <td>2</td>\n",
       "      <td>0</td>\n",
       "      <td>1</td>\n",
       "    </tr>\n",
       "    <tr>\n",
       "      <th>89</th>\n",
       "      <td>8.0500</td>\n",
       "      <td>3</td>\n",
       "      <td>0</td>\n",
       "      <td>1</td>\n",
       "    </tr>\n",
       "    <tr>\n",
       "      <th>358</th>\n",
       "      <td>7.8792</td>\n",
       "      <td>3</td>\n",
       "      <td>1</td>\n",
       "      <td>6</td>\n",
       "    </tr>\n",
       "    <tr>\n",
       "      <th>373</th>\n",
       "      <td>135.6333</td>\n",
       "      <td>1</td>\n",
       "      <td>0</td>\n",
       "      <td>1</td>\n",
       "    </tr>\n",
       "    <tr>\n",
       "      <th>507</th>\n",
       "      <td>26.5500</td>\n",
       "      <td>1</td>\n",
       "      <td>0</td>\n",
       "      <td>1</td>\n",
       "    </tr>\n",
       "  </tbody>\n",
       "</table>\n",
       "</div>"
      ],
      "text/plain": [
       "     FareAdjusted  Pclass  SexNumeric  TitleNumeric\n",
       "589        8.0500       3           0             1\n",
       "35        52.0000       1           0             1\n",
       "782       30.0000       1           0             1\n",
       "790        7.7500       3           0             1\n",
       "283        8.0500       3           0             1\n",
       "342       13.0000       2           0             1\n",
       "89         8.0500       3           0             1\n",
       "358        7.8792       3           1             6\n",
       "373      135.6333       1           0             1\n",
       "507       26.5500       1           0             1"
      ]
     },
     "execution_count": 118,
     "metadata": {},
     "output_type": "execute_result"
    }
   ],
   "source": [
    "import math\n",
    "\n",
    "t_train = t_train_orig\n",
    "\n",
    "# sex to numeric\n",
    "t_train['SexNumeric'] = np.where(t_train['Sex'] == \"male\", 0, 1)\n",
    "\n",
    "# fill in missing fare with median fare for passengers in the same class\n",
    "med_fares = t_train.groupby('Pclass')['Fare'].median()\n",
    "def fare_for_class(row):\n",
    "    return median_fares[row['Pclass']] if row['Fare'] == 0 else row['Fare']\n",
    "\n",
    "t_train['FareAdjusted'] = t_train.apply(fare_for_class,axis=1)\n",
    "\n",
    "# fill in missing age with get median age for passengers in the same class\n",
    "med_ages = t_train.groupby('Pclass')['Age'].median()\n",
    "def age_for_class(row):\n",
    "    return median_ages[row['Pclass']] if np.isnan(row['Age']) else row['Age']\n",
    "\n",
    "t_train['AgeAdjusted'] = t_train.apply(age_for_class,axis=1)\n",
    "\n",
    "# extract titles\n",
    "#get_index = lambda x, xs: [i for (y, i) in zip(xs, range(len(xs))) if x == y][0]\n",
    "\n",
    "t_train['Title'] = t_train_orig['Name'].map(lambda name: [title for title in name.split(' ') if '.' in title][0])\n",
    "#all_titles = t_train['Title'].unique()\n",
    "titles_esteemed_first = {\n",
    "    'Countess.': 17,\n",
    "    'Lady.': 16,\n",
    "    'Rev.': 15,\n",
    "    'Jonkheer.': 14,\n",
    "    'Master.': 13,\n",
    "    'Major.' : 12,\n",
    "    'Don.': 11,\n",
    "    'Dr.' : 10,\n",
    "    'Col.': 9,\n",
    "    'Capt.': 8,\n",
    "    'Mlle.': 7,\n",
    "    'Miss.': 6,\n",
    "    'Ms.': 5,\n",
    "    'Mrs.': 4,\n",
    "    'Mme.': 3,\n",
    "    'Sir.': 2,\n",
    "    'Mr.': 1\n",
    "}\n",
    "t_train['TitleNumeric'] = t_train['Title'].map(lambda title: titles_esteemed_first[title])\n",
    "\n",
    "\n",
    "feature_cols = ['FareAdjusted', 'Pclass', 'SexNumeric', 'TitleNumeric']\n",
    "t_train[feature_cols].sample(10)"
   ]
  },
  {
   "cell_type": "code",
   "execution_count": 119,
   "metadata": {},
   "outputs": [
    {
     "name": "stdout",
     "output_type": "stream",
     "text": [
      "       Feature 1     Feature 2  Correlation Coefficient\n",
      "19  FareAdjusted        Pclass                 0.561243\n",
      "58  FareAdjusted          Died                 0.250635\n",
      "59  FareAdjusted      Survived                 0.250635\n",
      "67  FareAdjusted         Parch                 0.212103\n",
      "73  FareAdjusted    SexNumeric                 0.175647\n",
      "78  FareAdjusted         SibSp                 0.155423\n",
      "82  FareAdjusted   AgeAdjusted                 0.128871\n",
      "88  FareAdjusted  TitleNumeric                 0.118450\n",
      "   Feature 1     Feature 2  Correlation Coefficient\n",
      "18    Pclass  FareAdjusted                 0.561243\n",
      "20    Pclass          Fare                 0.549500\n",
      "30    Pclass   AgeAdjusted                 0.408487\n",
      "32    Pclass           Age                 0.369226\n",
      "38    Pclass          Died                 0.338481\n",
      "39    Pclass      Survived                 0.338481\n",
      "80    Pclass    SexNumeric                 0.131900\n",
      "     Feature 1     Feature 2  Correlation Coefficient\n",
      "22  SexNumeric      Survived                 0.543351\n",
      "24  SexNumeric          Died                 0.543351\n",
      "27  SexNumeric  TitleNumeric                 0.444248\n",
      "60  SexNumeric         Parch                 0.245489\n",
      "71  SexNumeric          Fare                 0.182333\n",
      "72  SexNumeric  FareAdjusted                 0.175647\n",
      "81  SexNumeric        Pclass                 0.131900\n",
      "90  SexNumeric         SibSp                 0.114631\n",
      "       Feature 1     Feature 2  Correlation Coefficient\n",
      "26  TitleNumeric    SexNumeric                 0.444248\n",
      "34  TitleNumeric      Survived                 0.364918\n",
      "37  TitleNumeric          Died                 0.364918\n",
      "42  TitleNumeric         SibSp                 0.314889\n",
      "45  TitleNumeric           Age                 0.314000\n",
      "48  TitleNumeric         Parch                 0.301536\n",
      "51  TitleNumeric   AgeAdjusted                 0.281742\n",
      "86  TitleNumeric          Fare                 0.119413\n",
      "89  TitleNumeric  FareAdjusted                 0.118450\n"
     ]
    }
   ],
   "source": [
    "t_train_corr = t_train.corr().abs().unstack().sort_values(kind=\"quicksort\", ascending=False).reset_index()\n",
    "t_train_corr.rename(columns={\"level_0\": \"Feature 1\", \"level_1\": \"Feature 2\", 0: 'Correlation Coefficient'}, inplace=True)\n",
    "\n",
    "groups = t_train_corr[(0.1 < t_train_corr[\"Correlation Coefficient\"]) & (t_train_corr[\"Correlation Coefficient\"] < .6)].groupby('Feature 1')\n",
    "for feature in feature_cols:\n",
    "    print(groups.get_group(feature))\n"
   ]
  },
  {
   "cell_type": "code",
   "execution_count": 121,
   "metadata": {
    "pycharm": {
     "is_executing": false
    }
   },
   "outputs": [
    {
     "name": "stdout",
     "output_type": "stream",
     "text": [
      "Accuracy: 0.8208955223880597\n"
     ]
    }
   ],
   "source": [
    "import pandas as pd\n",
    "\n",
    "from sklearn.tree import DecisionTreeClassifier # Import Decision Tree Classifier\n",
    "from sklearn.model_selection import train_test_split # Import train_test_split function\n",
    "from sklearn import metrics #Import scikit-learn metrics module for accuracy calculation\n",
    "\n",
    "X = t_train[feature_cols]\n",
    "y = t_train.Survived\n",
    "\n",
    "X_train, X_test, y_train, y_test = train_test_split(X, y, test_size=0.3, random_state=1) # 70% training and 30% test\n",
    "\n",
    "clf = DecisionTreeClassifier()\n",
    "clf = clf.fit(X_train,y_train)\n",
    "y_pred = clf.predict(X_test)\n",
    "\n",
    "# Model Accuracy, how often is the classifier correct?\n",
    "print(\"Accuracy:\",metrics.accuracy_score(y_test, y_pred))"
   ]
  },
  {
   "cell_type": "markdown",
   "metadata": {},
   "source": [
    "## Try a random forrest classifier"
   ]
  },
  {
   "cell_type": "code",
   "execution_count": 124,
   "metadata": {
    "pycharm": {
     "is_executing": false
    }
   },
   "outputs": [
    {
     "name": "stdout",
     "output_type": "stream",
     "text": [
      "feature importance: [0.30550242 0.13077921 0.22175089 0.34196748]\n",
      "score train: 0.8860353130016051\n",
      "score:       0.8022388059701493\n"
     ]
    },
    {
     "data": {
      "text/html": [
       "<div>\n",
       "<style scoped>\n",
       "    .dataframe tbody tr th:only-of-type {\n",
       "        vertical-align: middle;\n",
       "    }\n",
       "\n",
       "    .dataframe tbody tr th {\n",
       "        vertical-align: top;\n",
       "    }\n",
       "\n",
       "    .dataframe thead th {\n",
       "        text-align: right;\n",
       "    }\n",
       "</style>\n",
       "<table border=\"1\" class=\"dataframe\">\n",
       "  <thead>\n",
       "    <tr style=\"text-align: right;\">\n",
       "      <th></th>\n",
       "      <th>importance</th>\n",
       "    </tr>\n",
       "  </thead>\n",
       "  <tbody>\n",
       "    <tr>\n",
       "      <th>TitleNumeric</th>\n",
       "      <td>0.341967</td>\n",
       "    </tr>\n",
       "    <tr>\n",
       "      <th>FareAdjusted</th>\n",
       "      <td>0.305502</td>\n",
       "    </tr>\n",
       "    <tr>\n",
       "      <th>SexNumeric</th>\n",
       "      <td>0.221751</td>\n",
       "    </tr>\n",
       "    <tr>\n",
       "      <th>Pclass</th>\n",
       "      <td>0.130779</td>\n",
       "    </tr>\n",
       "  </tbody>\n",
       "</table>\n",
       "</div>"
      ],
      "text/plain": [
       "              importance\n",
       "TitleNumeric    0.341967\n",
       "FareAdjusted    0.305502\n",
       "SexNumeric      0.221751\n",
       "Pclass          0.130779"
      ]
     },
     "execution_count": 124,
     "metadata": {},
     "output_type": "execute_result"
    }
   ],
   "source": [
    "from sklearn.ensemble import RandomForestClassifier\n",
    "\n",
    "\n",
    "rfc = RandomForestClassifier(n_estimators=180, min_samples_leaf=3, max_features=0.5, n_jobs=-1)\n",
    "rfc.fit(X_train,y_train) \n",
    "\n",
    "print(f'feature importance: {rfc.feature_importances_}')\n",
    "print(f'score train: {rfc.score(X_train, y_train)}')\n",
    "print(f'score:       {rfc.score(X_test, y_test)}')\n",
    "\n",
    "\n",
    "feature_importances = pd.DataFrame(rfc.feature_importances_,\n",
    "                                   index = X.columns,\n",
    "                                    columns=['importance']).sort_values('importance',ascending=False)\n",
    "\n",
    "feature_importances"
   ]
  },
  {
   "cell_type": "markdown",
   "metadata": {},
   "source": [
    "## Logistic Regression"
   ]
  },
  {
   "cell_type": "code",
   "execution_count": 123,
   "metadata": {
    "pycharm": {
     "is_executing": false
    },
    "scrolled": true
   },
   "outputs": [
    {
     "name": "stdout",
     "output_type": "stream",
     "text": [
      "probabilty (count = 891\n",
      "[[0.93610928 0.06389072]\n",
      " [0.1023997  0.8976003 ]\n",
      " [0.38832923 0.61167077]\n",
      " ...\n",
      " [0.39140593 0.60859407]\n",
      " [0.65114955 0.34885045]\n",
      " [0.93613419 0.06386581]]\n",
      "\n",
      "score: 0.8922558922558923\n"
     ]
    }
   ],
   "source": [
    "from sklearn.linear_model import LogisticRegression\n",
    "\n",
    "lr = LogisticRegression(random_state=0, solver='lbfgs',\n",
    "                         multi_class='multinomial').fit(X_train, y_train)\n",
    "\n",
    "prob = lr.predict_proba(X)\n",
    "\n",
    "print(f'probabilty (count = {len(prob)}\\n{prob}\\n')\n",
    "print(f'score: {clf.score(X, y)}')\n"
   ]
  },
  {
   "cell_type": "markdown",
   "metadata": {},
   "source": [
    "### Odds and Ends -- things I may want to use"
   ]
  },
  {
   "cell_type": "code",
   "execution_count": null,
   "metadata": {},
   "outputs": [],
   "source": [
    "# Things I did not use\n",
    "\n",
    "# passenger has a cabin (if NaN, no cabin)\n",
    "t_train['CabinPresent'] = t_train['Cabin'].fillna(0)\n",
    "t_train['CabinPresent'] = np.where(t_train['CabinPresent'] != 0, 1, 0)\n",
    "\n",
    "# location of cabin.. naive mapping based on the first letter of the Cabin location \n",
    "import string\n",
    "t_train['Deck'] = \\\n",
    "    t_train['Cabin'].map(lambda cabin: cabin[0] if (type(cabin) == str) else \"U\")\n",
    "\n",
    "# thought large number of siblings might help (it didn't)\n",
    "t_train['SibSpLarge'] = t_train['SibSp'].map(lambda ct: 1 if ct > 3 else 0)\n",
    "#t_train['SibSpLarge'].value_counts()\n",
    "\n",
    "# people with the same last name may be a family; add feature that represent this count to each person\n",
    "# doesn't seem to help\n",
    "t_train['LastName'] = t_train['Name'].map(lambda name: name.split(',')[0])\n",
    "familyCount = t_train.groupby('LastName')['LastName'].count()\n",
    "t_train['FamilyCount'] = t_train['LastName'].map(lambda lastName: familyCount[lastName])\n",
    "t_train['FamilyScore'] = t_train.FamilyCount + t_train.SibSp + t_train.Parch\n",
    "\n",
    "t_train['FamSize_Single'] = t_train['FamilyScore'].map(lambda score: score == 1)\n",
    "t_train['FamSize_Small'] = t_train['FamilyScore'].map(lambda score: 1 < score <= 3)\n",
    "t_train['FamSize_Medium'] = t_train['FamilyScore'].map(lambda score: 3 < score <= 5)\n",
    "t_train['FamSize_Large'] = t_train['FamilyScore'].map(lambda score: 5 < score)\n",
    "# next, try using the SibSp to correlate against this count..\n",
    "# but do people with siblings or spouses have a higher chance of surviving? \n",
    "\n",
    "#t_train['Fare'].map(lambda amt: int(amt / 10) * 10).value_counts()\n",
    "ave_fare = t_train['Fare'].median()\n",
    "t_train['FareWithDefault'] = t_train['Fare'].map(lambda fare: fare if fare > 0 else ave_fare)\n",
    "\n",
    "\n",
    "# this actually hurts\n",
    "t_train['IsChild'] = t_train['AgeAdjusted'].map(lambda age: 1 if (age <= 12.0) else 0)\n",
    "\n",
    "\n",
    "# extract titles\n",
    "get_index = lambda x, xs: [i for (y, i) in zip(xs, range(len(xs))) if x == y][0]\n",
    "\n",
    "t_train['Title'] = t_train_orig['Name'].map(lambda name: [title for title in name.split(' ') if '.' in title][0])\n",
    "titles = t_train['Title'].unique()\n",
    "\n",
    "t_train['TitleNumeric'] = t_train['Title'].map(lambda title: get_index(title, titles))\n",
    "\n",
    "feature_cols = ['FareAdjusted', 'Pclass', 'SexNumeric', 'TitleNumeric']"
   ]
  },
  {
   "cell_type": "code",
   "execution_count": null,
   "metadata": {},
   "outputs": [],
   "source": []
  }
 ],
 "metadata": {
  "kernelspec": {
   "display_name": "Python 3",
   "language": "python",
   "name": "python3"
  },
  "language_info": {
   "codemirror_mode": {
    "name": "ipython",
    "version": 3
   },
   "file_extension": ".py",
   "mimetype": "text/x-python",
   "name": "python",
   "nbconvert_exporter": "python",
   "pygments_lexer": "ipython3",
   "version": "3.7.3"
  },
  "pycharm": {
   "stem_cell": {
    "cell_type": "raw",
    "metadata": {
     "collapsed": false
    },
    "source": []
   }
  }
 },
 "nbformat": 4,
 "nbformat_minor": 1
}
