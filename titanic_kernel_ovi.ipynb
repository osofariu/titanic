{
 "cells": [
  {
   "cell_type": "markdown",
   "metadata": {},
   "source": [
    "# Titanic Challenge"
   ]
  },
  {
   "cell_type": "code",
   "execution_count": 14,
   "metadata": {
    "_cell_guid": "b1076dfc-b9ad-4769-8c92-a6c4dae69d19",
    "_uuid": "8f2839f25d086af736a60e9eeb907d3b93b6e0e5",
    "pycharm": {
     "is_executing": false
    }
   },
   "outputs": [
    {
     "name": "stdout",
     "text": [
      "kaggle/input/titanic/test.csv\nkaggle/input/titanic/titanic.zip\nkaggle/input/titanic/train.csv\nkaggle/input/titanic/gender_submission.csv\n"
     ],
     "output_type": "stream"
    }
   ],
   "source": [
    "import numpy as np # linear algebra\n",
    "import pandas as pd # data processing, CSV file I/O (e.g. pd.read_csv)\n",
    "\n",
    "import os\n",
    "for dirname, _, filenames in os.walk('kaggle/input'):\n",
    "    for filename in filenames:\n",
    "        print(os.path.join(dirname, filename))"
   ]
  },
  {
   "cell_type": "markdown",
   "metadata": {},
   "source": [
    "### Look for columns with missing values"
   ]
  },
  {
   "cell_type": "code",
   "execution_count": 15,
   "metadata": {
    "pycharm": {
     "is_executing": false
    }
   },
   "outputs": [
    {
     "name": "stdout",
     "text": [
      "Age column missing values: 177\nCabin column missing values: 687\nEmbarked column missing values: 2\n\n\nTitanic Training Set\nAge column missing values: 177\nCabin column missing values: 687\nEmbarked column missing values: 2\n\n\nTitanic Test Set\nAge column missing values: 86\nFare column missing values: 1\nCabin column missing values: 327\n\n\n"
     ],
     "output_type": "stream"
    }
   ],
   "source": [
    "t_train_orig = pd.read_csv(\"kaggle/input/titanic/train.csv\")\n",
    "t_train_orig.name = \"Titanic Training Set\"\n",
    "\n",
    "t_test_orig = pd.read_csv(\"kaggle/input/titanic/test.csv\")\n",
    "t_test_orig.name = \"Titanic Test Set\"\n",
    "\n",
    "def display_missing(df):    \n",
    "    for col in df.columns.tolist(): \n",
    "        if df[col].isnull().sum() > 0:\n",
    "            print('{} column missing values: {}'.format(col, df[col].isnull().sum()))\n",
    "    print('\\n')\n",
    "\n",
    "dfs = [t_train_orig, t_test_orig]\n",
    "\n",
    "display_missing(dfs[0])\n",
    "\n",
    "for df in dfs:\n",
    "    print('{}'.format(df.name))\n",
    "    display_missing(df)"
   ]
  },
  {
   "cell_type": "markdown",
   "metadata": {},
   "source": [
    "### See what  Age is correlated with best\n",
    "so we can fill in nulls with more representative values"
   ]
  },
  {
   "cell_type": "code",
   "execution_count": 16,
   "metadata": {
    "pycharm": {
     "is_executing": false
    }
   },
   "outputs": [
    {
     "data": {
      "text/plain": "   Feature 1    Feature 2  Correlation Coefficient\n5        Age          Age                 1.000000\n12       Age       Pclass                 0.369226\n16       Age        SibSp                 0.308247\n21       Age        Parch                 0.189119\n26       Age         Fare                 0.096067\n31       Age     Survived                 0.077221\n36       Age  PassengerId                 0.036847",
      "text/html": "<div>\n<style scoped>\n    .dataframe tbody tr th:only-of-type {\n        vertical-align: middle;\n    }\n\n    .dataframe tbody tr th {\n        vertical-align: top;\n    }\n\n    .dataframe thead th {\n        text-align: right;\n    }\n</style>\n<table border=\"1\" class=\"dataframe\">\n  <thead>\n    <tr style=\"text-align: right;\">\n      <th></th>\n      <th>Feature 1</th>\n      <th>Feature 2</th>\n      <th>Correlation Coefficient</th>\n    </tr>\n  </thead>\n  <tbody>\n    <tr>\n      <th>5</th>\n      <td>Age</td>\n      <td>Age</td>\n      <td>1.000000</td>\n    </tr>\n    <tr>\n      <th>12</th>\n      <td>Age</td>\n      <td>Pclass</td>\n      <td>0.369226</td>\n    </tr>\n    <tr>\n      <th>16</th>\n      <td>Age</td>\n      <td>SibSp</td>\n      <td>0.308247</td>\n    </tr>\n    <tr>\n      <th>21</th>\n      <td>Age</td>\n      <td>Parch</td>\n      <td>0.189119</td>\n    </tr>\n    <tr>\n      <th>26</th>\n      <td>Age</td>\n      <td>Fare</td>\n      <td>0.096067</td>\n    </tr>\n    <tr>\n      <th>31</th>\n      <td>Age</td>\n      <td>Survived</td>\n      <td>0.077221</td>\n    </tr>\n    <tr>\n      <th>36</th>\n      <td>Age</td>\n      <td>PassengerId</td>\n      <td>0.036847</td>\n    </tr>\n  </tbody>\n</table>\n</div>"
     },
     "metadata": {},
     "output_type": "execute_result",
     "execution_count": 16
    }
   ],
   "source": [
    "t_train_corr= t_train_orig.corr().abs().unstack().sort_values(kind=\"quicksort\", ascending=False).reset_index()\n",
    "t_train_corr.rename(columns={\"level_0\": \"Feature 1\", \"level_1\": \"Feature 2\", 0: 'Correlation Coefficient'}, inplace=True)\n",
    "t_train_corr[t_train_corr[\"Feature 1\"] == \"Age\"]\n",
    "\n",
    "t_test_corr = t_train_orig.corr().abs().unstack().sort_values(kind=\"quicksort\", ascending=False).reset_index()\n",
    "t_test_corr.rename(columns={\"level_0\": \"Feature 1\", \"level_1\": \"Feature 2\", 0: 'Correlation Coefficient'}, inplace=True)\n",
    "t_test_corr[t_test_corr[\"Feature 1\"] == \"Age\"]\n",
    "\n"
   ]
  },
  {
   "cell_type": "markdown",
   "metadata": {},
   "source": [
    "### Sample training data"
   ]
  },
  {
   "cell_type": "code",
   "execution_count": 17,
   "metadata": {
    "scrolled": true,
    "pycharm": {
     "is_executing": false
    }
   },
   "outputs": [
    {
     "data": {
      "text/plain": "     PassengerId  Survived  Pclass  \\\n17            18         1       2   \n399          400         1       2   \n750          751         1       2   \n775          776         0       3   \n144          145         0       2   \n756          757         0       3   \n396          397         0       3   \n477          478         0       3   \n670          671         1       2   \n457          458         1       1   \n\n                                                  Name     Sex   Age  SibSp  \\\n17                        Williams, Mr. Charles Eugene    male   NaN      0   \n399                   Trout, Mrs. William H (Jessie L)  female  28.0      0   \n750                                  Wells, Miss. Joan  female   4.0      1   \n775            Myhrman, Mr. Pehr Fabian Oliver Malkolm    male  18.0      0   \n144                         Andrew, Mr. Edgardo Samuel    male  18.0      0   \n756                       Carlsson, Mr. August Sigfrid    male  28.0      0   \n396                                Olsson, Miss. Elina  female  31.0      0   \n477                          Braund, Mr. Lewis Richard    male  29.0      1   \n670  Brown, Mrs. Thomas William Solomon (Elizabeth ...  female  40.0      1   \n457                  Kenyon, Mrs. Frederick R (Marion)  female   NaN      1   \n\n     Parch  Ticket     Fare Cabin Embarked  \n17       0  244373  13.0000   NaN        S  \n399      0  240929  12.6500   NaN        S  \n750      1   29103  23.0000   NaN        S  \n775      0  347078   7.7500   NaN        S  \n144      0  231945  11.5000   NaN        S  \n756      0  350042   7.7958   NaN        S  \n396      0  350407   7.8542   NaN        S  \n477      0    3460   7.0458   NaN        S  \n670      1   29750  39.0000   NaN        S  \n457      0   17464  51.8625   D21        S  ",
      "text/html": "<div>\n<style scoped>\n    .dataframe tbody tr th:only-of-type {\n        vertical-align: middle;\n    }\n\n    .dataframe tbody tr th {\n        vertical-align: top;\n    }\n\n    .dataframe thead th {\n        text-align: right;\n    }\n</style>\n<table border=\"1\" class=\"dataframe\">\n  <thead>\n    <tr style=\"text-align: right;\">\n      <th></th>\n      <th>PassengerId</th>\n      <th>Survived</th>\n      <th>Pclass</th>\n      <th>Name</th>\n      <th>Sex</th>\n      <th>Age</th>\n      <th>SibSp</th>\n      <th>Parch</th>\n      <th>Ticket</th>\n      <th>Fare</th>\n      <th>Cabin</th>\n      <th>Embarked</th>\n    </tr>\n  </thead>\n  <tbody>\n    <tr>\n      <th>17</th>\n      <td>18</td>\n      <td>1</td>\n      <td>2</td>\n      <td>Williams, Mr. Charles Eugene</td>\n      <td>male</td>\n      <td>NaN</td>\n      <td>0</td>\n      <td>0</td>\n      <td>244373</td>\n      <td>13.0000</td>\n      <td>NaN</td>\n      <td>S</td>\n    </tr>\n    <tr>\n      <th>399</th>\n      <td>400</td>\n      <td>1</td>\n      <td>2</td>\n      <td>Trout, Mrs. William H (Jessie L)</td>\n      <td>female</td>\n      <td>28.0</td>\n      <td>0</td>\n      <td>0</td>\n      <td>240929</td>\n      <td>12.6500</td>\n      <td>NaN</td>\n      <td>S</td>\n    </tr>\n    <tr>\n      <th>750</th>\n      <td>751</td>\n      <td>1</td>\n      <td>2</td>\n      <td>Wells, Miss. Joan</td>\n      <td>female</td>\n      <td>4.0</td>\n      <td>1</td>\n      <td>1</td>\n      <td>29103</td>\n      <td>23.0000</td>\n      <td>NaN</td>\n      <td>S</td>\n    </tr>\n    <tr>\n      <th>775</th>\n      <td>776</td>\n      <td>0</td>\n      <td>3</td>\n      <td>Myhrman, Mr. Pehr Fabian Oliver Malkolm</td>\n      <td>male</td>\n      <td>18.0</td>\n      <td>0</td>\n      <td>0</td>\n      <td>347078</td>\n      <td>7.7500</td>\n      <td>NaN</td>\n      <td>S</td>\n    </tr>\n    <tr>\n      <th>144</th>\n      <td>145</td>\n      <td>0</td>\n      <td>2</td>\n      <td>Andrew, Mr. Edgardo Samuel</td>\n      <td>male</td>\n      <td>18.0</td>\n      <td>0</td>\n      <td>0</td>\n      <td>231945</td>\n      <td>11.5000</td>\n      <td>NaN</td>\n      <td>S</td>\n    </tr>\n    <tr>\n      <th>756</th>\n      <td>757</td>\n      <td>0</td>\n      <td>3</td>\n      <td>Carlsson, Mr. August Sigfrid</td>\n      <td>male</td>\n      <td>28.0</td>\n      <td>0</td>\n      <td>0</td>\n      <td>350042</td>\n      <td>7.7958</td>\n      <td>NaN</td>\n      <td>S</td>\n    </tr>\n    <tr>\n      <th>396</th>\n      <td>397</td>\n      <td>0</td>\n      <td>3</td>\n      <td>Olsson, Miss. Elina</td>\n      <td>female</td>\n      <td>31.0</td>\n      <td>0</td>\n      <td>0</td>\n      <td>350407</td>\n      <td>7.8542</td>\n      <td>NaN</td>\n      <td>S</td>\n    </tr>\n    <tr>\n      <th>477</th>\n      <td>478</td>\n      <td>0</td>\n      <td>3</td>\n      <td>Braund, Mr. Lewis Richard</td>\n      <td>male</td>\n      <td>29.0</td>\n      <td>1</td>\n      <td>0</td>\n      <td>3460</td>\n      <td>7.0458</td>\n      <td>NaN</td>\n      <td>S</td>\n    </tr>\n    <tr>\n      <th>670</th>\n      <td>671</td>\n      <td>1</td>\n      <td>2</td>\n      <td>Brown, Mrs. Thomas William Solomon (Elizabeth ...</td>\n      <td>female</td>\n      <td>40.0</td>\n      <td>1</td>\n      <td>1</td>\n      <td>29750</td>\n      <td>39.0000</td>\n      <td>NaN</td>\n      <td>S</td>\n    </tr>\n    <tr>\n      <th>457</th>\n      <td>458</td>\n      <td>1</td>\n      <td>1</td>\n      <td>Kenyon, Mrs. Frederick R (Marion)</td>\n      <td>female</td>\n      <td>NaN</td>\n      <td>1</td>\n      <td>0</td>\n      <td>17464</td>\n      <td>51.8625</td>\n      <td>D21</td>\n      <td>S</td>\n    </tr>\n  </tbody>\n</table>\n</div>"
     },
     "metadata": {},
     "output_type": "execute_result",
     "execution_count": 17
    }
   ],
   "source": [
    "t_train_orig.sample(10)"
   ]
  },
  {
   "cell_type": "markdown",
   "metadata": {},
   "source": [
    "## Feature exploration\n",
    "\n",
    "Let's try a simple decision-tree based solution that gives weight to certain columns:\n",
    "* Pclass (1 > 2 > 3)\n",
    "* Fare ($$ > $)\n",
    "* Sex (female > male)\n",
    "* CabinPresent (1 > 0)\n",
    "* Is child over 12 (1 > 0)\n"
   ]
  },
  {
   "cell_type": "code",
   "execution_count": 25,
   "metadata": {
    "pycharm": {
     "is_executing": false
    }
   },
   "outputs": [],
   "source": [
    "# let's clean-up the data for the decision tree classifier\n",
    "\n",
    "import math\n",
    "\n",
    "t_train = t_train_orig\n",
    "\n",
    "# sex to numeric\n",
    "t_train['SexNumeric'] = np.where(t_train['Sex'] == \"male\", 0, 1)\n",
    "\n",
    "# passenger has a cabin (if NaN, no cabin)\n",
    "t_train['CabinPresent'] = t_train['Cabin'].fillna(0)\n",
    "t_train['CabinPresent'] = np.where(t_train['CabinPresent'] != 0, 1, 0)\n",
    "\n",
    "# location of cabin.. naive mapping based on the first letter of the Cabin location \n",
    "import string\n",
    "t_train['CabinLetter'] = \\\n",
    "    t_train['Cabin'].map(lambda cabin: string.ascii_uppercase.index(cabin[0]) if (type(cabin) == str) else -1)\n",
    "\n",
    "# thought large number of siblings might help (it didn't)\n",
    "t_train['SibSpLarge'] = t_train['SibSp'].map(lambda ct: 1 if ct > 3 else 0)\n",
    "#t_train['SibSpLarge'].value_counts()\n",
    "\n",
    "# people with the same last name may be a family; add feature that represent this count to each person\n",
    "# doesn't seem to help\n",
    "t_train['LastName'] = t_train['Name'].map(lambda name: name.split(',')[0])\n",
    "familyCount = t_train.groupby('LastName')['LastName'].count()\n",
    "t_train['FamilyCount'] = t_train['LastName'].map(lambda lastName: familyCount[lastName])\n",
    "t_train['FamilyScore'] = t_train.FamilyCount + t_train.SibSp + t_train.Parch\n",
    "# next, try using the SibSp to correlate against this count..\n",
    "# but do people with siblings or spouses have a higher chance of surviving? \n",
    "\n",
    "#t_train['Fare'].map(lambda amt: int(amt / 10) * 10).value_counts()\n",
    "ave_fare = t_train['Fare'].median()\n",
    "t_train['FareWithDefault'] = t_train['Fare'].map(lambda fare: fare if fare > 0 else ave_fare)\n",
    "\n",
    "fare_p1 = t_train[t_train['Pclass'] == 1]['Fare'].median()\n",
    "fare_p2 = t_train[t_train['Pclass'] == 2]['Fare'].median()\n",
    "fare_p3 = t_train[t_train['Pclass'] == 3]['Fare'].median()\n",
    "median_fares = [0, fare_p1, fare_p2, fare_p3]\n",
    "\n",
    "def fare_for_class(row):\n",
    "    pclass = row['Pclass']\n",
    "    fare = row['Fare']\n",
    "    fare_for_class = median_fares[pclass]\n",
    "    adjusted_fare = fare_for_class if fare == 0 else fare\n",
    "    return adjusted_fare\n",
    "\n",
    "t_train['FareAdjusted'] = t_train.apply(fare_for_class,axis=1)\n",
    "\n",
    "# get average age for different classes\n",
    "age_p1 = t_train[t_train['Pclass'] == 1]['Age'].median()\n",
    "age_p2 = t_train[t_train['Pclass'] == 2]['Age'].median()\n",
    "age_p3 = t_train[t_train['Pclass'] == 3]['Age'].median()\n",
    "median_ages = [0, age_p1, age_p2, age_p3]\n",
    "\n",
    "def age_for_class(row):\n",
    "    pclass = row['Pclass']\n",
    "    age = row['Age']\n",
    "    age_for_class = median_ages[pclass]\n",
    "    adjusted_age = age_for_class if np.isnan(age) else age\n",
    "    return adjusted_age\n",
    "\n",
    "t_train['AgeAdjusted'] = t_train.apply(age_for_class,axis=1)\n",
    "\n",
    "# this helps a bit\n",
    "t_train['IsChild'] = t_train['AgeAdjusted'].map(lambda age: 1 if (age <= 12.0) else 0)"
   ]
  },
  {
   "cell_type": "code",
   "execution_count": 29,
   "metadata": {
    "pycharm": {
     "is_executing": false
    }
   },
   "outputs": [],
   "source": [
    "#t_train[t_train['Fare'] != t_train['FareAdjusted']]"
   ]
  },
  {
   "cell_type": "code",
   "execution_count": 30,
   "metadata": {
    "pycharm": {
     "is_executing": false
    }
   },
   "outputs": [
    {
     "name": "stdout",
     "text": [
      "Accuracy: 0.8395522388059702\n"
     ],
     "output_type": "stream"
    }
   ],
   "source": [
    "import pandas as pd\n",
    "\n",
    "from sklearn.tree import DecisionTreeClassifier # Import Decision Tree Classifier\n",
    "from sklearn.model_selection import train_test_split # Import train_test_split function\n",
    "from sklearn import metrics #Import scikit-learn metrics module for accuracy calculation\n",
    "\n",
    "\n",
    "feature_cols = ['FareAdjusted','SexNumeric', 'AgeAdjusted', 'IsChild', 'Pclass']\n",
    "#              [ 0.3309298  0.2972776 0.2367167  0.10798761 ]\n",
    "feature_cols = ['SexNumeric', 'Fare','IsChild',  'Pclass', 'AgeAdjusted']\n",
    "#Accuracy: 0.8395522388059702\n",
    "\n",
    "feature_cols = ['FareAdjusted', 'Pclass', 'SexNumeric', 'IsChild', ]\n",
    "#Accuracy: 0.8246268656716418\n",
    "#Accuracy: 0.8283582089552238 sometimes.. why?\n",
    "\n",
    "#feature_cols = ['Fare', 'Pclass', 'SexNumeric', 'CabinPresent']\n",
    "#Accuracy: 0.8208955223880597\n",
    "\n",
    "#feature_cols = ['Pclass', 'SexNumeric', 'Fare']\n",
    "# Accuracy: 0.8134328358208955\n",
    "\n",
    "#feature_cols = ['Fare', 'Pclass']\n",
    "#Accuracy: 0.6865671641791045\n",
    "\n",
    "X = t_train[feature_cols]\n",
    "y = t_train.Survived\n",
    "\n",
    "X_train, X_test, y_train, y_test = train_test_split(X, y, test_size=0.3, random_state=1) # 70% training and 30% test\n",
    "\n",
    "clf = DecisionTreeClassifier()\n",
    "clf = clf.fit(X_train,y_train)\n",
    "y_pred = clf.predict(X_test)\n",
    "\n",
    "# Model Accuracy, how often is the classifier correct?\n",
    "print(\"Accuracy:\",metrics.accuracy_score(y_test, y_pred))"
   ]
  },
  {
   "cell_type": "code",
   "execution_count": 31,
   "metadata": {
    "pycharm": {
     "is_executing": false
    }
   },
   "outputs": [
    {
     "name": "stdout",
     "text": [
      "Requirement already satisfied: pydotplus in /Users/ovi/.local/share/virtualenvs/titanic-IkK3JPU-/lib/python3.7/site-packages (2.0.2)\r\nRequirement already satisfied: pyparsing>=2.0.1 in /Users/ovi/.local/share/virtualenvs/titanic-IkK3JPU-/lib/python3.7/site-packages (from pydotplus) (2.4.5)\r\n"
     ],
     "output_type": "stream"
    },
    {
     "traceback": [
      "\u001b[0;31m---------------------------------------------------------------------------\u001b[0m",
      "\u001b[0;31mInvocationException\u001b[0m                       Traceback (most recent call last)",
      "\u001b[0;32m<ipython-input-31-dca15ef80b7f>\u001b[0m in \u001b[0;36m<module>\u001b[0;34m\u001b[0m\n\u001b[1;32m     18\u001b[0m                 special_characters=True,feature_names = feature_cols,class_names=['0','1'])\n\u001b[1;32m     19\u001b[0m \u001b[0mgraph\u001b[0m \u001b[0;34m=\u001b[0m \u001b[0mpydotplus\u001b[0m\u001b[0;34m.\u001b[0m\u001b[0mgraph_from_dot_data\u001b[0m\u001b[0;34m(\u001b[0m\u001b[0mdot_data\u001b[0m\u001b[0;34m.\u001b[0m\u001b[0mgetvalue\u001b[0m\u001b[0;34m(\u001b[0m\u001b[0;34m)\u001b[0m\u001b[0;34m)\u001b[0m\u001b[0;34m\u001b[0m\u001b[0;34m\u001b[0m\u001b[0m\n\u001b[0;32m---> 20\u001b[0;31m \u001b[0mgraph\u001b[0m\u001b[0;34m.\u001b[0m\u001b[0mwrite_png\u001b[0m\u001b[0;34m(\u001b[0m\u001b[0;34m'titanic.png'\u001b[0m\u001b[0;34m)\u001b[0m\u001b[0;34m\u001b[0m\u001b[0;34m\u001b[0m\u001b[0m\n\u001b[0m\u001b[1;32m     21\u001b[0m \u001b[0mImage\u001b[0m\u001b[0;34m(\u001b[0m\u001b[0mgraph\u001b[0m\u001b[0;34m.\u001b[0m\u001b[0mcreate_png\u001b[0m\u001b[0;34m(\u001b[0m\u001b[0;34m)\u001b[0m\u001b[0;34m)\u001b[0m\u001b[0;34m\u001b[0m\u001b[0;34m\u001b[0m\u001b[0m\n\u001b[1;32m     22\u001b[0m \u001b[0;34m\u001b[0m\u001b[0m\n",
      "\u001b[0;32m~/.local/share/virtualenvs/titanic-IkK3JPU-/lib/python3.7/site-packages/pydotplus/graphviz.py\u001b[0m in \u001b[0;36m<lambda>\u001b[0;34m(path, f, prog)\u001b[0m\n\u001b[1;32m   1808\u001b[0m                 \u001b[0;32mlambda\u001b[0m \u001b[0mpath\u001b[0m\u001b[0;34m,\u001b[0m\u001b[0;34m\u001b[0m\u001b[0;34m\u001b[0m\u001b[0m\n\u001b[1;32m   1809\u001b[0m                 \u001b[0mf\u001b[0m\u001b[0;34m=\u001b[0m\u001b[0mfrmt\u001b[0m\u001b[0;34m,\u001b[0m\u001b[0;34m\u001b[0m\u001b[0;34m\u001b[0m\u001b[0m\n\u001b[0;32m-> 1810\u001b[0;31m                 \u001b[0mprog\u001b[0m\u001b[0;34m=\u001b[0m\u001b[0mself\u001b[0m\u001b[0;34m.\u001b[0m\u001b[0mprog\u001b[0m\u001b[0;34m:\u001b[0m \u001b[0mself\u001b[0m\u001b[0;34m.\u001b[0m\u001b[0mwrite\u001b[0m\u001b[0;34m(\u001b[0m\u001b[0mpath\u001b[0m\u001b[0;34m,\u001b[0m \u001b[0mformat\u001b[0m\u001b[0;34m=\u001b[0m\u001b[0mf\u001b[0m\u001b[0;34m,\u001b[0m \u001b[0mprog\u001b[0m\u001b[0;34m=\u001b[0m\u001b[0mprog\u001b[0m\u001b[0;34m)\u001b[0m\u001b[0;34m\u001b[0m\u001b[0;34m\u001b[0m\u001b[0m\n\u001b[0m\u001b[1;32m   1811\u001b[0m             )\n\u001b[1;32m   1812\u001b[0m \u001b[0;34m\u001b[0m\u001b[0m\n",
      "\u001b[0;32m~/.local/share/virtualenvs/titanic-IkK3JPU-/lib/python3.7/site-packages/pydotplus/graphviz.py\u001b[0m in \u001b[0;36mwrite\u001b[0;34m(self, path, prog, format)\u001b[0m\n\u001b[1;32m   1916\u001b[0m \u001b[0;34m\u001b[0m\u001b[0m\n\u001b[1;32m   1917\u001b[0m             \u001b[0;32melse\u001b[0m\u001b[0;34m:\u001b[0m\u001b[0;34m\u001b[0m\u001b[0;34m\u001b[0m\u001b[0m\n\u001b[0;32m-> 1918\u001b[0;31m                 \u001b[0mfobj\u001b[0m\u001b[0;34m.\u001b[0m\u001b[0mwrite\u001b[0m\u001b[0;34m(\u001b[0m\u001b[0mself\u001b[0m\u001b[0;34m.\u001b[0m\u001b[0mcreate\u001b[0m\u001b[0;34m(\u001b[0m\u001b[0mprog\u001b[0m\u001b[0;34m,\u001b[0m \u001b[0mformat\u001b[0m\u001b[0;34m)\u001b[0m\u001b[0;34m)\u001b[0m\u001b[0;34m\u001b[0m\u001b[0;34m\u001b[0m\u001b[0m\n\u001b[0m\u001b[1;32m   1919\u001b[0m         \u001b[0;32mfinally\u001b[0m\u001b[0;34m:\u001b[0m\u001b[0;34m\u001b[0m\u001b[0;34m\u001b[0m\u001b[0m\n\u001b[1;32m   1920\u001b[0m             \u001b[0;32mif\u001b[0m \u001b[0mclose\u001b[0m\u001b[0;34m:\u001b[0m\u001b[0;34m\u001b[0m\u001b[0;34m\u001b[0m\u001b[0m\n",
      "\u001b[0;32m~/.local/share/virtualenvs/titanic-IkK3JPU-/lib/python3.7/site-packages/pydotplus/graphviz.py\u001b[0m in \u001b[0;36mcreate\u001b[0;34m(self, prog, format)\u001b[0m\n\u001b[1;32m   1958\u001b[0m             \u001b[0;32mif\u001b[0m \u001b[0mself\u001b[0m\u001b[0;34m.\u001b[0m\u001b[0mprogs\u001b[0m \u001b[0;32mis\u001b[0m \u001b[0;32mNone\u001b[0m\u001b[0;34m:\u001b[0m\u001b[0;34m\u001b[0m\u001b[0;34m\u001b[0m\u001b[0m\n\u001b[1;32m   1959\u001b[0m                 raise InvocationException(\n\u001b[0;32m-> 1960\u001b[0;31m                     'GraphViz\\'s executables not found')\n\u001b[0m\u001b[1;32m   1961\u001b[0m \u001b[0;34m\u001b[0m\u001b[0m\n\u001b[1;32m   1962\u001b[0m         \u001b[0;32mif\u001b[0m \u001b[0mprog\u001b[0m \u001b[0;32mnot\u001b[0m \u001b[0;32min\u001b[0m \u001b[0mself\u001b[0m\u001b[0;34m.\u001b[0m\u001b[0mprogs\u001b[0m\u001b[0;34m:\u001b[0m\u001b[0;34m\u001b[0m\u001b[0;34m\u001b[0m\u001b[0m\n",
      "\u001b[0;31mInvocationException\u001b[0m: GraphViz's executables not found"
     ],
     "ename": "InvocationException",
     "evalue": "GraphViz's executables not found",
     "output_type": "error"
    }
   ],
   "source": [
    "#let's visualize the results\n",
    "\n",
    "from sklearn.tree import export_graphviz\n",
    "from sklearn.externals.six import StringIO  \n",
    "from IPython.display import Image  \n",
    "\n",
    "!pip install pydotplus\n",
    "import pydotplus\n",
    "\n",
    "from sklearn.tree import export_graphviz\n",
    "from sklearn.externals.six import StringIO  \n",
    "from IPython.display import Image  \n",
    "import pydotplus\n",
    "\n",
    "dot_data = StringIO()\n",
    "export_graphviz(clf, out_file=dot_data,  \n",
    "                filled=True, rounded=True,\n",
    "                special_characters=True,feature_names = feature_cols,class_names=['0','1'])\n",
    "graph = pydotplus.graph_from_dot_data(dot_data.getvalue())  \n",
    "graph.write_png('titanic.png')\n",
    "Image(graph.create_png())\n"
   ]
  },
  {
   "cell_type": "markdown",
   "metadata": {},
   "source": [
    "## Try a random forrest classifier"
   ]
  },
  {
   "cell_type": "code",
   "execution_count": 22,
   "metadata": {
    "pycharm": {
     "is_executing": false
    }
   },
   "outputs": [
    {
     "name": "stdout",
     "text": [
      "feature importance: [0.40988466 0.1319164  0.39231598 0.06588296]\nscore: 0.8283582089552238\n"
     ],
     "output_type": "stream"
    }
   ],
   "source": [
    "from sklearn.ensemble import RandomForestClassifier\n",
    "\n",
    "\n",
    "clf = RandomForestClassifier(bootstrap=True, class_weight=None, criterion='gini',\n",
    "            max_depth=100, max_features='auto', max_leaf_nodes=None,\n",
    "            min_impurity_decrease=0.0, min_impurity_split=None,\n",
    "            min_samples_leaf=1, min_samples_split=5,\n",
    "            min_weight_fraction_leaf=0.0, n_estimators=250, n_jobs=None,\n",
    "            oob_score=False, random_state=0, verbose=0, warm_start=False)\n",
    "\n",
    "clf.fit(X_train,y_train) \n",
    "\n",
    "\n",
    "print(f'feature importance: {clf.feature_importances_}')\n",
    "print(f'score: {clf.score(X_test, y_test)}')\n",
    "# 20 samples\n",
    "#[0.27465804 0.22880346 0.45345524 0.04308326]\n",
    "# 100 samples\n",
    "#[0.14283224 0.18341415 0.60423145 0.06952216]\n",
    "\n",
    "# ['Fare', 'Pclass', 'SexNumeric', 'CabinPresent', 'IsChild']\n",
    "# [0.40740532 0.10936106 0.37225673 0.05263696 0.05833993]"
   ]
  },
  {
   "cell_type": "markdown",
   "metadata": {},
   "source": [
    "## Logistic Regression"
   ]
  },
  {
   "cell_type": "code",
   "execution_count": null,
   "metadata": {
    "pycharm": {
     "is_executing": false
    }
   },
   "outputs": [],
   "source": [
    "from sklearn.linear_model import LogisticRegression\n",
    "\n",
    "clf = LogisticRegression(random_state=0, solver='lbfgs',\n",
    "                         multi_class='multinomial').fit(X_train, y_train)\n",
    "\n",
    "prob = clf.predict_proba(X)\n",
    "\n",
    "print(f'probabilty (count = {len(prob)}\\n{prob}\\n')\n",
    "print(f'score: {clf.score(X, y)}')\n"
   ]
  }
 ],
 "metadata": {
  "kernelspec": {
   "display_name": "Python 3",
   "language": "python",
   "name": "python3"
  },
  "language_info": {
   "codemirror_mode": {
    "name": "ipython",
    "version": 3
   },
   "file_extension": ".py",
   "mimetype": "text/x-python",
   "name": "python",
   "nbconvert_exporter": "python",
   "pygments_lexer": "ipython3",
   "version": "3.7.3"
  },
  "pycharm": {
   "stem_cell": {
    "cell_type": "raw",
    "source": [],
    "metadata": {
     "collapsed": false
    }
   }
  }
 },
 "nbformat": 4,
 "nbformat_minor": 1
}
